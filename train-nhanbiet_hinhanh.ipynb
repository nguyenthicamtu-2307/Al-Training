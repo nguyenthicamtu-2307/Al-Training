{
 "cells": [
  {
   "cell_type": "code",
   "execution_count": 1,
   "id": "506670d9",
   "metadata": {
    "colab": {
     "base_uri": "https://localhost:8080/"
    },
    "executionInfo": {
     "elapsed": 2811,
     "status": "ok",
     "timestamp": 1667733172391,
     "user": {
      "displayName": "Đức Nguyễn",
      "userId": "17174833605224599318"
     },
     "user_tz": -420
    },
    "id": "506670d9",
    "outputId": "03363b8d-2b52-4bbf-ea1d-3356cc06d0be"
   },
   "outputs": [],
   "source": [
    "# from google.colab import drive\n",
    "# drive.mount('/content/drive')\n",
    "\n",
    "# %cd \"/content/drive/MyDrive/Colab Notebooks\"\n",
    "\n",
    "import numpy as np\n",
    "import os\n",
    "import matplotlib.pyplot as plt \n",
    "import tensorflow as tf\n",
    "from keras.utils import to_categorical\n",
    "import csv\n",
    "import sys\n",
    "from matplotlib import pyplot\n",
    "from keras.datasets import cifar10\n",
    "from keras.models import Sequential\n",
    "from keras.layers import Conv2D\n",
    "from keras.layers import MaxPooling2D,MaxPool2D,BatchNormalization\n",
    "from keras.layers import Dense\n",
    "from keras.layers import Flatten\n",
    "from keras.layers import Dropout\n",
    "from tensorflow.keras.callbacks import TensorBoard"
   ]
  },
  {
   "cell_type": "code",
   "execution_count": 4,
   "id": "a932749e",
   "metadata": {
    "colab": {
     "base_uri": "https://localhost:8080/"
    },
    "executionInfo": {
     "elapsed": 1324831,
     "status": "ok",
     "timestamp": 1667734497204,
     "user": {
      "displayName": "Đức Nguyễn",
      "userId": "17174833605224599318"
     },
     "user_tz": -420
    },
    "id": "a932749e",
    "outputId": "2e70e598-9c29-4352-ee14-adf5ecb33961"
   },
   "outputs": [
    {
     "name": "stdout",
     "output_type": "stream",
     "text": [
      "Model: \"sequential\"\n",
      "_________________________________________________________________\n",
      " Layer (type)                Output Shape              Param #   \n",
      "=================================================================\n",
      " conv2d (Conv2D)             (None, 32, 32, 32)        896       \n",
      "                                                                 \n",
      " batch_normalization (BatchN  (None, 32, 32, 32)       128       \n",
      " ormalization)                                                   \n",
      "                                                                 \n",
      " conv2d_1 (Conv2D)           (None, 32, 32, 32)        9248      \n",
      "                                                                 \n",
      " batch_normalization_1 (Batc  (None, 32, 32, 32)       128       \n",
      " hNormalization)                                                 \n",
      "                                                                 \n",
      " max_pooling2d (MaxPooling2D  (None, 16, 16, 32)       0         \n",
      " )                                                               \n",
      "                                                                 \n",
      " dropout (Dropout)           (None, 16, 16, 32)        0         \n",
      "                                                                 \n",
      " conv2d_2 (Conv2D)           (None, 16, 16, 64)        18496     \n",
      "                                                                 \n",
      " batch_normalization_2 (Batc  (None, 16, 16, 64)       256       \n",
      " hNormalization)                                                 \n",
      "                                                                 \n",
      " conv2d_3 (Conv2D)           (None, 16, 16, 64)        36928     \n",
      "                                                                 \n",
      " batch_normalization_3 (Batc  (None, 16, 16, 64)       256       \n",
      " hNormalization)                                                 \n",
      "                                                                 \n",
      " max_pooling2d_1 (MaxPooling  (None, 8, 8, 64)         0         \n",
      " 2D)                                                             \n",
      "                                                                 \n",
      " dropout_1 (Dropout)         (None, 8, 8, 64)          0         \n",
      "                                                                 \n",
      " conv2d_4 (Conv2D)           (None, 8, 8, 128)         73856     \n",
      "                                                                 \n",
      " batch_normalization_4 (Batc  (None, 8, 8, 128)        512       \n",
      " hNormalization)                                                 \n",
      "                                                                 \n",
      " conv2d_5 (Conv2D)           (None, 8, 8, 128)         147584    \n",
      "                                                                 \n",
      " batch_normalization_5 (Batc  (None, 8, 8, 128)        512       \n",
      " hNormalization)                                                 \n",
      "                                                                 \n",
      " max_pooling2d_2 (MaxPooling  (None, 4, 4, 128)        0         \n",
      " 2D)                                                             \n",
      "                                                                 \n",
      " dropout_2 (Dropout)         (None, 4, 4, 128)         0         \n",
      "                                                                 \n",
      " flatten (Flatten)           (None, 2048)              0         \n",
      "                                                                 \n",
      " dense (Dense)               (None, 128)               262272    \n",
      "                                                                 \n",
      " dropout_3 (Dropout)         (None, 128)               0         \n",
      "                                                                 \n",
      " dense_1 (Dense)             (None, 10)                1290      \n",
      "                                                                 \n",
      "=================================================================\n",
      "Total params: 552,362\n",
      "Trainable params: 551,466\n",
      "Non-trainable params: 896\n",
      "_________________________________________________________________\n",
      "Epoch 1/100\n",
      "1250/1250 [==============================] - ETA: 0s - loss: 0.2457 - accuracy: 0.4537 - precision: 0.5855 - recall: 0.3249\n",
      "Epoch 1: saving model to ./obj\\\n"
     ]
    },
    {
     "name": "stderr",
     "output_type": "stream",
     "text": [
      "WARNING:absl:Found untraced functions such as _jit_compiled_convolution_op, _jit_compiled_convolution_op, _jit_compiled_convolution_op, _jit_compiled_convolution_op, _jit_compiled_convolution_op while saving (showing 5 of 6). These functions will not be directly callable after loading.\n"
     ]
    },
    {
     "name": "stdout",
     "output_type": "stream",
     "text": [
      "INFO:tensorflow:Assets written to: ./obj\\assets\n"
     ]
    },
    {
     "name": "stderr",
     "output_type": "stream",
     "text": [
      "INFO:tensorflow:Assets written to: ./obj\\assets\n"
     ]
    },
    {
     "name": "stdout",
     "output_type": "stream",
     "text": [
      "1250/1250 [==============================] - 133s 103ms/step - loss: 0.2457 - accuracy: 0.4537 - precision: 0.5855 - recall: 0.3249 - val_loss: 0.1836 - val_accuracy: 0.5955 - val_precision: 0.6795 - val_recall: 0.5246\n",
      "Epoch 2/100\n",
      "1250/1250 [==============================] - ETA: 0s - loss: 0.1724 - accuracy: 0.6370 - precision: 0.7274 - recall: 0.5562\n",
      "Epoch 2: saving model to ./obj\\\n"
     ]
    },
    {
     "name": "stderr",
     "output_type": "stream",
     "text": [
      "WARNING:absl:Found untraced functions such as _jit_compiled_convolution_op, _jit_compiled_convolution_op, _jit_compiled_convolution_op, _jit_compiled_convolution_op, _jit_compiled_convolution_op while saving (showing 5 of 6). These functions will not be directly callable after loading.\n"
     ]
    },
    {
     "name": "stdout",
     "output_type": "stream",
     "text": [
      "INFO:tensorflow:Assets written to: ./obj\\assets\n"
     ]
    },
    {
     "name": "stderr",
     "output_type": "stream",
     "text": [
      "INFO:tensorflow:Assets written to: ./obj\\assets\n"
     ]
    },
    {
     "name": "stdout",
     "output_type": "stream",
     "text": [
      "1250/1250 [==============================] - 125s 100ms/step - loss: 0.1724 - accuracy: 0.6370 - precision: 0.7274 - recall: 0.5562 - val_loss: 0.1558 - val_accuracy: 0.6669 - val_precision: 0.7423 - val_recall: 0.6181\n",
      "Epoch 3/100\n",
      "1250/1250 [==============================] - ETA: 0s - loss: 0.1472 - accuracy: 0.6934 - precision: 0.7685 - recall: 0.6334\n",
      "Epoch 3: saving model to ./obj\\\n"
     ]
    },
    {
     "name": "stderr",
     "output_type": "stream",
     "text": [
      "WARNING:absl:Found untraced functions such as _jit_compiled_convolution_op, _jit_compiled_convolution_op, _jit_compiled_convolution_op, _jit_compiled_convolution_op, _jit_compiled_convolution_op while saving (showing 5 of 6). These functions will not be directly callable after loading.\n"
     ]
    },
    {
     "name": "stdout",
     "output_type": "stream",
     "text": [
      "INFO:tensorflow:Assets written to: ./obj\\assets\n"
     ]
    },
    {
     "name": "stderr",
     "output_type": "stream",
     "text": [
      "INFO:tensorflow:Assets written to: ./obj\\assets\n"
     ]
    },
    {
     "name": "stdout",
     "output_type": "stream",
     "text": [
      "1250/1250 [==============================] - 130s 104ms/step - loss: 0.1472 - accuracy: 0.6934 - precision: 0.7685 - recall: 0.6334 - val_loss: 0.1343 - val_accuracy: 0.7231 - val_precision: 0.7903 - val_recall: 0.6715\n",
      "Epoch 4/100\n",
      "1250/1250 [==============================] - ETA: 0s - loss: 0.1311 - accuracy: 0.7353 - precision: 0.7988 - recall: 0.6824\n",
      "Epoch 4: saving model to ./obj\\\n"
     ]
    },
    {
     "name": "stderr",
     "output_type": "stream",
     "text": [
      "WARNING:absl:Found untraced functions such as _jit_compiled_convolution_op, _jit_compiled_convolution_op, _jit_compiled_convolution_op, _jit_compiled_convolution_op, _jit_compiled_convolution_op while saving (showing 5 of 6). These functions will not be directly callable after loading.\n"
     ]
    },
    {
     "name": "stdout",
     "output_type": "stream",
     "text": [
      "INFO:tensorflow:Assets written to: ./obj\\assets\n"
     ]
    },
    {
     "name": "stderr",
     "output_type": "stream",
     "text": [
      "INFO:tensorflow:Assets written to: ./obj\\assets\n"
     ]
    },
    {
     "name": "stdout",
     "output_type": "stream",
     "text": [
      "1250/1250 [==============================] - 127s 102ms/step - loss: 0.1311 - accuracy: 0.7353 - precision: 0.7988 - recall: 0.6824 - val_loss: 0.1262 - val_accuracy: 0.7369 - val_precision: 0.7958 - val_recall: 0.6953\n",
      "Epoch 5/100\n",
      "1250/1250 [==============================] - ETA: 0s - loss: 0.1194 - accuracy: 0.7619 - precision: 0.8176 - recall: 0.7167\n",
      "Epoch 5: saving model to ./obj\\\n"
     ]
    },
    {
     "name": "stderr",
     "output_type": "stream",
     "text": [
      "WARNING:absl:Found untraced functions such as _jit_compiled_convolution_op, _jit_compiled_convolution_op, _jit_compiled_convolution_op, _jit_compiled_convolution_op, _jit_compiled_convolution_op while saving (showing 5 of 6). These functions will not be directly callable after loading.\n"
     ]
    },
    {
     "name": "stdout",
     "output_type": "stream",
     "text": [
      "INFO:tensorflow:Assets written to: ./obj\\assets\n"
     ]
    },
    {
     "name": "stderr",
     "output_type": "stream",
     "text": [
      "INFO:tensorflow:Assets written to: ./obj\\assets\n"
     ]
    },
    {
     "name": "stdout",
     "output_type": "stream",
     "text": [
      "1250/1250 [==============================] - 136s 109ms/step - loss: 0.1194 - accuracy: 0.7619 - precision: 0.8176 - recall: 0.7167 - val_loss: 0.1362 - val_accuracy: 0.7108 - val_precision: 0.7686 - val_recall: 0.6706\n",
      "Epoch 6/100\n",
      "1250/1250 [==============================] - ETA: 0s - loss: 0.1107 - accuracy: 0.7787 - precision: 0.8325 - recall: 0.7370\n",
      "Epoch 6: saving model to ./obj\\\n"
     ]
    },
    {
     "name": "stderr",
     "output_type": "stream",
     "text": [
      "WARNING:absl:Found untraced functions such as _jit_compiled_convolution_op, _jit_compiled_convolution_op, _jit_compiled_convolution_op, _jit_compiled_convolution_op, _jit_compiled_convolution_op while saving (showing 5 of 6). These functions will not be directly callable after loading.\n"
     ]
    },
    {
     "name": "stdout",
     "output_type": "stream",
     "text": [
      "INFO:tensorflow:Assets written to: ./obj\\assets\n"
     ]
    },
    {
     "name": "stderr",
     "output_type": "stream",
     "text": [
      "INFO:tensorflow:Assets written to: ./obj\\assets\n"
     ]
    },
    {
     "name": "stdout",
     "output_type": "stream",
     "text": [
      "1250/1250 [==============================] - 132s 105ms/step - loss: 0.1107 - accuracy: 0.7787 - precision: 0.8325 - recall: 0.7370 - val_loss: 0.1021 - val_accuracy: 0.7976 - val_precision: 0.8424 - val_recall: 0.7630\n",
      "Epoch 7/100\n",
      "1250/1250 [==============================] - ETA: 0s - loss: 0.1028 - accuracy: 0.7992 - precision: 0.8456 - recall: 0.7613\n",
      "Epoch 7: saving model to ./obj\\\n"
     ]
    },
    {
     "name": "stderr",
     "output_type": "stream",
     "text": [
      "WARNING:absl:Found untraced functions such as _jit_compiled_convolution_op, _jit_compiled_convolution_op, _jit_compiled_convolution_op, _jit_compiled_convolution_op, _jit_compiled_convolution_op while saving (showing 5 of 6). These functions will not be directly callable after loading.\n"
     ]
    },
    {
     "name": "stdout",
     "output_type": "stream",
     "text": [
      "INFO:tensorflow:Assets written to: ./obj\\assets\n"
     ]
    },
    {
     "name": "stderr",
     "output_type": "stream",
     "text": [
      "INFO:tensorflow:Assets written to: ./obj\\assets\n"
     ]
    },
    {
     "name": "stdout",
     "output_type": "stream",
     "text": [
      "1250/1250 [==============================] - 136s 108ms/step - loss: 0.1028 - accuracy: 0.7992 - precision: 0.8456 - recall: 0.7613 - val_loss: 0.1101 - val_accuracy: 0.7763 - val_precision: 0.8175 - val_recall: 0.7485\n",
      "Epoch 8/100\n",
      "1250/1250 [==============================] - ETA: 0s - loss: 0.0951 - accuracy: 0.8120 - precision: 0.8554 - recall: 0.7784\n",
      "Epoch 8: saving model to ./obj\\\n"
     ]
    },
    {
     "name": "stderr",
     "output_type": "stream",
     "text": [
      "WARNING:absl:Found untraced functions such as _jit_compiled_convolution_op, _jit_compiled_convolution_op, _jit_compiled_convolution_op, _jit_compiled_convolution_op, _jit_compiled_convolution_op while saving (showing 5 of 6). These functions will not be directly callable after loading.\n"
     ]
    },
    {
     "name": "stdout",
     "output_type": "stream",
     "text": [
      "INFO:tensorflow:Assets written to: ./obj\\assets\n"
     ]
    },
    {
     "name": "stderr",
     "output_type": "stream",
     "text": [
      "INFO:tensorflow:Assets written to: ./obj\\assets\n"
     ]
    },
    {
     "name": "stdout",
     "output_type": "stream",
     "text": [
      "1250/1250 [==============================] - 129s 103ms/step - loss: 0.0951 - accuracy: 0.8120 - precision: 0.8554 - recall: 0.7784 - val_loss: 0.0937 - val_accuracy: 0.8125 - val_precision: 0.8529 - val_recall: 0.7797\n",
      "Epoch 9/100\n",
      "1250/1250 [==============================] - ETA: 0s - loss: 0.0886 - accuracy: 0.8256 - precision: 0.8676 - recall: 0.7948\n",
      "Epoch 9: saving model to ./obj\\\n"
     ]
    },
    {
     "name": "stderr",
     "output_type": "stream",
     "text": [
      "WARNING:absl:Found untraced functions such as _jit_compiled_convolution_op, _jit_compiled_convolution_op, _jit_compiled_convolution_op, _jit_compiled_convolution_op, _jit_compiled_convolution_op while saving (showing 5 of 6). These functions will not be directly callable after loading.\n"
     ]
    },
    {
     "name": "stdout",
     "output_type": "stream",
     "text": [
      "INFO:tensorflow:Assets written to: ./obj\\assets\n"
     ]
    },
    {
     "name": "stderr",
     "output_type": "stream",
     "text": [
      "INFO:tensorflow:Assets written to: ./obj\\assets\n"
     ]
    },
    {
     "name": "stdout",
     "output_type": "stream",
     "text": [
      "1250/1250 [==============================] - 131s 105ms/step - loss: 0.0886 - accuracy: 0.8256 - precision: 0.8676 - recall: 0.7948 - val_loss: 0.1040 - val_accuracy: 0.7960 - val_precision: 0.8340 - val_recall: 0.7698\n",
      "Epoch 10/100\n",
      "1250/1250 [==============================] - ETA: 0s - loss: 0.0832 - accuracy: 0.8380 - precision: 0.8747 - recall: 0.8099\n",
      "Epoch 10: saving model to ./obj\\\n"
     ]
    },
    {
     "name": "stderr",
     "output_type": "stream",
     "text": [
      "WARNING:absl:Found untraced functions such as _jit_compiled_convolution_op, _jit_compiled_convolution_op, _jit_compiled_convolution_op, _jit_compiled_convolution_op, _jit_compiled_convolution_op while saving (showing 5 of 6). These functions will not be directly callable after loading.\n"
     ]
    },
    {
     "name": "stdout",
     "output_type": "stream",
     "text": [
      "INFO:tensorflow:Assets written to: ./obj\\assets\n"
     ]
    },
    {
     "name": "stderr",
     "output_type": "stream",
     "text": [
      "INFO:tensorflow:Assets written to: ./obj\\assets\n"
     ]
    },
    {
     "name": "stdout",
     "output_type": "stream",
     "text": [
      "1250/1250 [==============================] - 132s 106ms/step - loss: 0.0832 - accuracy: 0.8380 - precision: 0.8747 - recall: 0.8099 - val_loss: 0.0961 - val_accuracy: 0.8110 - val_precision: 0.8491 - val_recall: 0.7867\n",
      "Epoch 11/100\n",
      "1250/1250 [==============================] - ETA: 0s - loss: 0.0789 - accuracy: 0.8478 - precision: 0.8810 - recall: 0.8196\n",
      "Epoch 11: saving model to ./obj\\\n"
     ]
    },
    {
     "name": "stderr",
     "output_type": "stream",
     "text": [
      "WARNING:absl:Found untraced functions such as _jit_compiled_convolution_op, _jit_compiled_convolution_op, _jit_compiled_convolution_op, _jit_compiled_convolution_op, _jit_compiled_convolution_op while saving (showing 5 of 6). These functions will not be directly callable after loading.\n"
     ]
    },
    {
     "name": "stdout",
     "output_type": "stream",
     "text": [
      "INFO:tensorflow:Assets written to: ./obj\\assets\n"
     ]
    },
    {
     "name": "stderr",
     "output_type": "stream",
     "text": [
      "INFO:tensorflow:Assets written to: ./obj\\assets\n"
     ]
    },
    {
     "name": "stdout",
     "output_type": "stream",
     "text": [
      "1250/1250 [==============================] - 134s 107ms/step - loss: 0.0789 - accuracy: 0.8478 - precision: 0.8810 - recall: 0.8196 - val_loss: 0.0986 - val_accuracy: 0.8116 - val_precision: 0.8440 - val_recall: 0.7901\n",
      "Epoch 12/100\n",
      "1250/1250 [==============================] - ETA: 0s - loss: 0.0752 - accuracy: 0.8577 - precision: 0.8894 - recall: 0.8311\n",
      "Epoch 12: saving model to ./obj\\\n"
     ]
    },
    {
     "name": "stderr",
     "output_type": "stream",
     "text": [
      "WARNING:absl:Found untraced functions such as _jit_compiled_convolution_op, _jit_compiled_convolution_op, _jit_compiled_convolution_op, _jit_compiled_convolution_op, _jit_compiled_convolution_op while saving (showing 5 of 6). These functions will not be directly callable after loading.\n"
     ]
    },
    {
     "name": "stdout",
     "output_type": "stream",
     "text": [
      "INFO:tensorflow:Assets written to: ./obj\\assets\n"
     ]
    },
    {
     "name": "stderr",
     "output_type": "stream",
     "text": [
      "INFO:tensorflow:Assets written to: ./obj\\assets\n"
     ]
    },
    {
     "name": "stdout",
     "output_type": "stream",
     "text": [
      "1250/1250 [==============================] - 125s 100ms/step - loss: 0.0752 - accuracy: 0.8577 - precision: 0.8894 - recall: 0.8311 - val_loss: 0.1047 - val_accuracy: 0.8069 - val_precision: 0.8385 - val_recall: 0.7828\n",
      "Epoch 13/100\n",
      "1250/1250 [==============================] - ETA: 0s - loss: 0.0728 - accuracy: 0.8612 - precision: 0.8931 - recall: 0.8373\n",
      "Epoch 13: saving model to ./obj\\\n"
     ]
    },
    {
     "name": "stderr",
     "output_type": "stream",
     "text": [
      "WARNING:absl:Found untraced functions such as _jit_compiled_convolution_op, _jit_compiled_convolution_op, _jit_compiled_convolution_op, _jit_compiled_convolution_op, _jit_compiled_convolution_op while saving (showing 5 of 6). These functions will not be directly callable after loading.\n"
     ]
    },
    {
     "name": "stdout",
     "output_type": "stream",
     "text": [
      "INFO:tensorflow:Assets written to: ./obj\\assets\n"
     ]
    },
    {
     "name": "stderr",
     "output_type": "stream",
     "text": [
      "INFO:tensorflow:Assets written to: ./obj\\assets\n"
     ]
    },
    {
     "name": "stdout",
     "output_type": "stream",
     "text": [
      "1250/1250 [==============================] - 139s 111ms/step - loss: 0.0728 - accuracy: 0.8612 - precision: 0.8931 - recall: 0.8373 - val_loss: 0.0977 - val_accuracy: 0.8187 - val_precision: 0.8473 - val_recall: 0.7974\n",
      "Epoch 14/100\n",
      "1250/1250 [==============================] - ETA: 0s - loss: 0.0690 - accuracy: 0.8680 - precision: 0.8978 - recall: 0.8477\n",
      "Epoch 14: saving model to ./obj\\\n"
     ]
    },
    {
     "name": "stderr",
     "output_type": "stream",
     "text": [
      "WARNING:absl:Found untraced functions such as _jit_compiled_convolution_op, _jit_compiled_convolution_op, _jit_compiled_convolution_op, _jit_compiled_convolution_op, _jit_compiled_convolution_op while saving (showing 5 of 6). These functions will not be directly callable after loading.\n"
     ]
    },
    {
     "name": "stdout",
     "output_type": "stream",
     "text": [
      "INFO:tensorflow:Assets written to: ./obj\\assets\n"
     ]
    },
    {
     "name": "stderr",
     "output_type": "stream",
     "text": [
      "INFO:tensorflow:Assets written to: ./obj\\assets\n"
     ]
    },
    {
     "name": "stdout",
     "output_type": "stream",
     "text": [
      "1250/1250 [==============================] - 126s 101ms/step - loss: 0.0690 - accuracy: 0.8680 - precision: 0.8978 - recall: 0.8477 - val_loss: 0.0908 - val_accuracy: 0.8280 - val_precision: 0.8612 - val_recall: 0.8051\n",
      "Epoch 15/100\n",
      "1250/1250 [==============================] - ETA: 0s - loss: 0.0668 - accuracy: 0.8727 - precision: 0.9010 - recall: 0.8525\n",
      "Epoch 15: saving model to ./obj\\\n"
     ]
    },
    {
     "name": "stderr",
     "output_type": "stream",
     "text": [
      "WARNING:absl:Found untraced functions such as _jit_compiled_convolution_op, _jit_compiled_convolution_op, _jit_compiled_convolution_op, _jit_compiled_convolution_op, _jit_compiled_convolution_op while saving (showing 5 of 6). These functions will not be directly callable after loading.\n"
     ]
    },
    {
     "name": "stdout",
     "output_type": "stream",
     "text": [
      "INFO:tensorflow:Assets written to: ./obj\\assets\n"
     ]
    },
    {
     "name": "stderr",
     "output_type": "stream",
     "text": [
      "INFO:tensorflow:Assets written to: ./obj\\assets\n"
     ]
    },
    {
     "name": "stdout",
     "output_type": "stream",
     "text": [
      "1250/1250 [==============================] - 125s 100ms/step - loss: 0.0668 - accuracy: 0.8727 - precision: 0.9010 - recall: 0.8525 - val_loss: 0.0907 - val_accuracy: 0.8287 - val_precision: 0.8555 - val_recall: 0.8089\n",
      "Epoch 16/100\n",
      "1250/1250 [==============================] - ETA: 0s - loss: 0.0636 - accuracy: 0.8796 - precision: 0.9052 - recall: 0.8605\n",
      "Epoch 16: saving model to ./obj\\\n"
     ]
    },
    {
     "name": "stderr",
     "output_type": "stream",
     "text": [
      "WARNING:absl:Found untraced functions such as _jit_compiled_convolution_op, _jit_compiled_convolution_op, _jit_compiled_convolution_op, _jit_compiled_convolution_op, _jit_compiled_convolution_op while saving (showing 5 of 6). These functions will not be directly callable after loading.\n"
     ]
    },
    {
     "name": "stdout",
     "output_type": "stream",
     "text": [
      "INFO:tensorflow:Assets written to: ./obj\\assets\n"
     ]
    },
    {
     "name": "stderr",
     "output_type": "stream",
     "text": [
      "INFO:tensorflow:Assets written to: ./obj\\assets\n"
     ]
    },
    {
     "name": "stdout",
     "output_type": "stream",
     "text": [
      "1250/1250 [==============================] - 126s 101ms/step - loss: 0.0636 - accuracy: 0.8796 - precision: 0.9052 - recall: 0.8605 - val_loss: 0.0852 - val_accuracy: 0.8416 - val_precision: 0.8678 - val_recall: 0.8215\n",
      "Epoch 17/100\n",
      "1250/1250 [==============================] - ETA: 0s - loss: 0.0613 - accuracy: 0.8842 - precision: 0.9096 - recall: 0.8649\n",
      "Epoch 17: saving model to ./obj\\\n"
     ]
    },
    {
     "name": "stderr",
     "output_type": "stream",
     "text": [
      "WARNING:absl:Found untraced functions such as _jit_compiled_convolution_op, _jit_compiled_convolution_op, _jit_compiled_convolution_op, _jit_compiled_convolution_op, _jit_compiled_convolution_op while saving (showing 5 of 6). These functions will not be directly callable after loading.\n"
     ]
    },
    {
     "name": "stdout",
     "output_type": "stream",
     "text": [
      "INFO:tensorflow:Assets written to: ./obj\\assets\n"
     ]
    },
    {
     "name": "stderr",
     "output_type": "stream",
     "text": [
      "INFO:tensorflow:Assets written to: ./obj\\assets\n"
     ]
    },
    {
     "name": "stdout",
     "output_type": "stream",
     "text": [
      "1250/1250 [==============================] - 127s 102ms/step - loss: 0.0613 - accuracy: 0.8842 - precision: 0.9096 - recall: 0.8649 - val_loss: 0.0955 - val_accuracy: 0.8276 - val_precision: 0.8539 - val_recall: 0.8085\n",
      "Epoch 18/100\n",
      "1250/1250 [==============================] - ETA: 0s - loss: 0.0590 - accuracy: 0.8894 - precision: 0.9129 - recall: 0.8715\n",
      "Epoch 18: saving model to ./obj\\\n"
     ]
    },
    {
     "name": "stderr",
     "output_type": "stream",
     "text": [
      "WARNING:absl:Found untraced functions such as _jit_compiled_convolution_op, _jit_compiled_convolution_op, _jit_compiled_convolution_op, _jit_compiled_convolution_op, _jit_compiled_convolution_op while saving (showing 5 of 6). These functions will not be directly callable after loading.\n"
     ]
    },
    {
     "name": "stdout",
     "output_type": "stream",
     "text": [
      "INFO:tensorflow:Assets written to: ./obj\\assets\n"
     ]
    },
    {
     "name": "stderr",
     "output_type": "stream",
     "text": [
      "INFO:tensorflow:Assets written to: ./obj\\assets\n"
     ]
    },
    {
     "name": "stdout",
     "output_type": "stream",
     "text": [
      "1250/1250 [==============================] - 143s 114ms/step - loss: 0.0590 - accuracy: 0.8894 - precision: 0.9129 - recall: 0.8715 - val_loss: 0.0848 - val_accuracy: 0.8427 - val_precision: 0.8702 - val_recall: 0.8218\n",
      "Epoch 19/100\n",
      "1250/1250 [==============================] - ETA: 0s - loss: 0.0565 - accuracy: 0.8971 - precision: 0.9195 - recall: 0.8800\n",
      "Epoch 19: saving model to ./obj\\\n"
     ]
    },
    {
     "name": "stderr",
     "output_type": "stream",
     "text": [
      "WARNING:absl:Found untraced functions such as _jit_compiled_convolution_op, _jit_compiled_convolution_op, _jit_compiled_convolution_op, _jit_compiled_convolution_op, _jit_compiled_convolution_op while saving (showing 5 of 6). These functions will not be directly callable after loading.\n"
     ]
    },
    {
     "name": "stdout",
     "output_type": "stream",
     "text": [
      "INFO:tensorflow:Assets written to: ./obj\\assets\n"
     ]
    },
    {
     "name": "stderr",
     "output_type": "stream",
     "text": [
      "INFO:tensorflow:Assets written to: ./obj\\assets\n"
     ]
    },
    {
     "name": "stdout",
     "output_type": "stream",
     "text": [
      "1250/1250 [==============================] - 132s 106ms/step - loss: 0.0565 - accuracy: 0.8971 - precision: 0.9195 - recall: 0.8800 - val_loss: 0.0879 - val_accuracy: 0.8461 - val_precision: 0.8722 - val_recall: 0.8299\n",
      "Epoch 20/100\n",
      "1250/1250 [==============================] - ETA: 0s - loss: 0.0548 - accuracy: 0.8974 - precision: 0.9181 - recall: 0.8816\n",
      "Epoch 20: saving model to ./obj\\\n"
     ]
    },
    {
     "name": "stderr",
     "output_type": "stream",
     "text": [
      "WARNING:absl:Found untraced functions such as _jit_compiled_convolution_op, _jit_compiled_convolution_op, _jit_compiled_convolution_op, _jit_compiled_convolution_op, _jit_compiled_convolution_op while saving (showing 5 of 6). These functions will not be directly callable after loading.\n"
     ]
    },
    {
     "name": "stdout",
     "output_type": "stream",
     "text": [
      "INFO:tensorflow:Assets written to: ./obj\\assets\n"
     ]
    },
    {
     "name": "stderr",
     "output_type": "stream",
     "text": [
      "INFO:tensorflow:Assets written to: ./obj\\assets\n"
     ]
    },
    {
     "name": "stdout",
     "output_type": "stream",
     "text": [
      "1250/1250 [==============================] - 145s 116ms/step - loss: 0.0548 - accuracy: 0.8974 - precision: 0.9181 - recall: 0.8816 - val_loss: 0.1028 - val_accuracy: 0.8167 - val_precision: 0.8427 - val_recall: 0.8012\n",
      "Epoch 21/100\n",
      "1250/1250 [==============================] - ETA: 0s - loss: 0.0521 - accuracy: 0.9025 - precision: 0.9218 - recall: 0.8876\n",
      "Epoch 21: saving model to ./obj\\\n"
     ]
    },
    {
     "name": "stderr",
     "output_type": "stream",
     "text": [
      "WARNING:absl:Found untraced functions such as _jit_compiled_convolution_op, _jit_compiled_convolution_op, _jit_compiled_convolution_op, _jit_compiled_convolution_op, _jit_compiled_convolution_op while saving (showing 5 of 6). These functions will not be directly callable after loading.\n"
     ]
    },
    {
     "name": "stdout",
     "output_type": "stream",
     "text": [
      "INFO:tensorflow:Assets written to: ./obj\\assets\n"
     ]
    },
    {
     "name": "stderr",
     "output_type": "stream",
     "text": [
      "INFO:tensorflow:Assets written to: ./obj\\assets\n"
     ]
    },
    {
     "name": "stdout",
     "output_type": "stream",
     "text": [
      "1250/1250 [==============================] - 134s 107ms/step - loss: 0.0521 - accuracy: 0.9025 - precision: 0.9218 - recall: 0.8876 - val_loss: 0.0935 - val_accuracy: 0.8400 - val_precision: 0.8602 - val_recall: 0.8273\n",
      "Epoch 22/100\n",
      "1250/1250 [==============================] - ETA: 0s - loss: 0.0520 - accuracy: 0.9047 - precision: 0.9253 - recall: 0.8905\n",
      "Epoch 22: saving model to ./obj\\\n"
     ]
    },
    {
     "name": "stderr",
     "output_type": "stream",
     "text": [
      "WARNING:absl:Found untraced functions such as _jit_compiled_convolution_op, _jit_compiled_convolution_op, _jit_compiled_convolution_op, _jit_compiled_convolution_op, _jit_compiled_convolution_op while saving (showing 5 of 6). These functions will not be directly callable after loading.\n"
     ]
    },
    {
     "name": "stdout",
     "output_type": "stream",
     "text": [
      "INFO:tensorflow:Assets written to: ./obj\\assets\n"
     ]
    },
    {
     "name": "stderr",
     "output_type": "stream",
     "text": [
      "INFO:tensorflow:Assets written to: ./obj\\assets\n"
     ]
    },
    {
     "name": "stdout",
     "output_type": "stream",
     "text": [
      "1250/1250 [==============================] - 146s 117ms/step - loss: 0.0520 - accuracy: 0.9047 - precision: 0.9253 - recall: 0.8905 - val_loss: 0.0907 - val_accuracy: 0.8438 - val_precision: 0.8651 - val_recall: 0.8323\n",
      "Epoch 23/100\n",
      "1250/1250 [==============================] - ETA: 0s - loss: 0.0496 - accuracy: 0.9095 - precision: 0.9272 - recall: 0.8955\n",
      "Epoch 23: saving model to ./obj\\\n"
     ]
    },
    {
     "name": "stderr",
     "output_type": "stream",
     "text": [
      "WARNING:absl:Found untraced functions such as _jit_compiled_convolution_op, _jit_compiled_convolution_op, _jit_compiled_convolution_op, _jit_compiled_convolution_op, _jit_compiled_convolution_op while saving (showing 5 of 6). These functions will not be directly callable after loading.\n"
     ]
    },
    {
     "name": "stdout",
     "output_type": "stream",
     "text": [
      "INFO:tensorflow:Assets written to: ./obj\\assets\n"
     ]
    },
    {
     "name": "stderr",
     "output_type": "stream",
     "text": [
      "INFO:tensorflow:Assets written to: ./obj\\assets\n"
     ]
    },
    {
     "name": "stdout",
     "output_type": "stream",
     "text": [
      "1250/1250 [==============================] - 161s 129ms/step - loss: 0.0496 - accuracy: 0.9095 - precision: 0.9272 - recall: 0.8955 - val_loss: 0.0967 - val_accuracy: 0.8276 - val_precision: 0.8554 - val_recall: 0.8103\n",
      "Epoch 24/100\n",
      "1250/1250 [==============================] - ETA: 0s - loss: 0.0473 - accuracy: 0.9125 - precision: 0.9301 - recall: 0.9000\n",
      "Epoch 24: saving model to ./obj\\\n"
     ]
    },
    {
     "name": "stderr",
     "output_type": "stream",
     "text": [
      "WARNING:absl:Found untraced functions such as _jit_compiled_convolution_op, _jit_compiled_convolution_op, _jit_compiled_convolution_op, _jit_compiled_convolution_op, _jit_compiled_convolution_op while saving (showing 5 of 6). These functions will not be directly callable after loading.\n"
     ]
    },
    {
     "name": "stdout",
     "output_type": "stream",
     "text": [
      "INFO:tensorflow:Assets written to: ./obj\\assets\n"
     ]
    },
    {
     "name": "stderr",
     "output_type": "stream",
     "text": [
      "INFO:tensorflow:Assets written to: ./obj\\assets\n"
     ]
    },
    {
     "name": "stdout",
     "output_type": "stream",
     "text": [
      "1250/1250 [==============================] - 173s 138ms/step - loss: 0.0473 - accuracy: 0.9125 - precision: 0.9301 - recall: 0.9000 - val_loss: 0.0899 - val_accuracy: 0.8428 - val_precision: 0.8648 - val_recall: 0.8295\n",
      "Epoch 25/100\n",
      "1250/1250 [==============================] - ETA: 0s - loss: 0.0478 - accuracy: 0.9129 - precision: 0.9296 - recall: 0.8998\n",
      "Epoch 25: saving model to ./obj\\\n"
     ]
    },
    {
     "name": "stderr",
     "output_type": "stream",
     "text": [
      "WARNING:absl:Found untraced functions such as _jit_compiled_convolution_op, _jit_compiled_convolution_op, _jit_compiled_convolution_op, _jit_compiled_convolution_op, _jit_compiled_convolution_op while saving (showing 5 of 6). These functions will not be directly callable after loading.\n"
     ]
    },
    {
     "name": "stdout",
     "output_type": "stream",
     "text": [
      "INFO:tensorflow:Assets written to: ./obj\\assets\n"
     ]
    },
    {
     "name": "stderr",
     "output_type": "stream",
     "text": [
      "INFO:tensorflow:Assets written to: ./obj\\assets\n"
     ]
    },
    {
     "name": "stdout",
     "output_type": "stream",
     "text": [
      "1250/1250 [==============================] - 148s 119ms/step - loss: 0.0478 - accuracy: 0.9129 - precision: 0.9296 - recall: 0.8998 - val_loss: 0.0930 - val_accuracy: 0.8397 - val_precision: 0.8631 - val_recall: 0.8254\n",
      "Epoch 26/100\n",
      "1250/1250 [==============================] - ETA: 0s - loss: 0.0452 - accuracy: 0.9184 - precision: 0.9341 - recall: 0.9068\n",
      "Epoch 26: saving model to ./obj\\\n"
     ]
    },
    {
     "name": "stderr",
     "output_type": "stream",
     "text": [
      "WARNING:absl:Found untraced functions such as _jit_compiled_convolution_op, _jit_compiled_convolution_op, _jit_compiled_convolution_op, _jit_compiled_convolution_op, _jit_compiled_convolution_op while saving (showing 5 of 6). These functions will not be directly callable after loading.\n"
     ]
    },
    {
     "name": "stdout",
     "output_type": "stream",
     "text": [
      "INFO:tensorflow:Assets written to: ./obj\\assets\n"
     ]
    },
    {
     "name": "stderr",
     "output_type": "stream",
     "text": [
      "INFO:tensorflow:Assets written to: ./obj\\assets\n"
     ]
    },
    {
     "name": "stdout",
     "output_type": "stream",
     "text": [
      "1250/1250 [==============================] - 166s 133ms/step - loss: 0.0452 - accuracy: 0.9184 - precision: 0.9341 - recall: 0.9068 - val_loss: 0.0943 - val_accuracy: 0.8450 - val_precision: 0.8654 - val_recall: 0.8304\n",
      "Epoch 27/100\n",
      "1250/1250 [==============================] - ETA: 0s - loss: 0.0451 - accuracy: 0.9194 - precision: 0.9355 - recall: 0.9079\n",
      "Epoch 27: saving model to ./obj\\\n"
     ]
    },
    {
     "name": "stderr",
     "output_type": "stream",
     "text": [
      "WARNING:absl:Found untraced functions such as _jit_compiled_convolution_op, _jit_compiled_convolution_op, _jit_compiled_convolution_op, _jit_compiled_convolution_op, _jit_compiled_convolution_op while saving (showing 5 of 6). These functions will not be directly callable after loading.\n"
     ]
    },
    {
     "name": "stdout",
     "output_type": "stream",
     "text": [
      "INFO:tensorflow:Assets written to: ./obj\\assets\n"
     ]
    },
    {
     "name": "stderr",
     "output_type": "stream",
     "text": [
      "INFO:tensorflow:Assets written to: ./obj\\assets\n"
     ]
    },
    {
     "name": "stdout",
     "output_type": "stream",
     "text": [
      "1250/1250 [==============================] - 128s 102ms/step - loss: 0.0451 - accuracy: 0.9194 - precision: 0.9355 - recall: 0.9079 - val_loss: 0.0980 - val_accuracy: 0.8348 - val_precision: 0.8582 - val_recall: 0.8222\n",
      "Epoch 28/100\n",
      "1250/1250 [==============================] - ETA: 0s - loss: 0.0447 - accuracy: 0.9191 - precision: 0.9348 - recall: 0.9075\n",
      "Epoch 28: saving model to ./obj\\\n"
     ]
    },
    {
     "name": "stderr",
     "output_type": "stream",
     "text": [
      "WARNING:absl:Found untraced functions such as _jit_compiled_convolution_op, _jit_compiled_convolution_op, _jit_compiled_convolution_op, _jit_compiled_convolution_op, _jit_compiled_convolution_op while saving (showing 5 of 6). These functions will not be directly callable after loading.\n"
     ]
    },
    {
     "name": "stdout",
     "output_type": "stream",
     "text": [
      "INFO:tensorflow:Assets written to: ./obj\\assets\n"
     ]
    },
    {
     "name": "stderr",
     "output_type": "stream",
     "text": [
      "INFO:tensorflow:Assets written to: ./obj\\assets\n"
     ]
    },
    {
     "name": "stdout",
     "output_type": "stream",
     "text": [
      "1250/1250 [==============================] - 143s 114ms/step - loss: 0.0447 - accuracy: 0.9191 - precision: 0.9348 - recall: 0.9075 - val_loss: 0.0929 - val_accuracy: 0.8386 - val_precision: 0.8631 - val_recall: 0.8229\n",
      "Epoch 29/100\n",
      "1250/1250 [==============================] - ETA: 0s - loss: 0.0423 - accuracy: 0.9226 - precision: 0.9373 - recall: 0.9122\n",
      "Epoch 29: saving model to ./obj\\\n"
     ]
    },
    {
     "name": "stderr",
     "output_type": "stream",
     "text": [
      "WARNING:absl:Found untraced functions such as _jit_compiled_convolution_op, _jit_compiled_convolution_op, _jit_compiled_convolution_op, _jit_compiled_convolution_op, _jit_compiled_convolution_op while saving (showing 5 of 6). These functions will not be directly callable after loading.\n"
     ]
    },
    {
     "name": "stdout",
     "output_type": "stream",
     "text": [
      "INFO:tensorflow:Assets written to: ./obj\\assets\n"
     ]
    },
    {
     "name": "stderr",
     "output_type": "stream",
     "text": [
      "INFO:tensorflow:Assets written to: ./obj\\assets\n"
     ]
    },
    {
     "name": "stdout",
     "output_type": "stream",
     "text": [
      "1250/1250 [==============================] - 136s 109ms/step - loss: 0.0423 - accuracy: 0.9226 - precision: 0.9373 - recall: 0.9122 - val_loss: 0.0942 - val_accuracy: 0.8416 - val_precision: 0.8653 - val_recall: 0.8272\n",
      "Epoch 30/100\n",
      "1250/1250 [==============================] - ETA: 0s - loss: 0.0413 - accuracy: 0.9250 - precision: 0.9390 - recall: 0.9139\n",
      "Epoch 30: saving model to ./obj\\\n"
     ]
    },
    {
     "name": "stderr",
     "output_type": "stream",
     "text": [
      "WARNING:absl:Found untraced functions such as _jit_compiled_convolution_op, _jit_compiled_convolution_op, _jit_compiled_convolution_op, _jit_compiled_convolution_op, _jit_compiled_convolution_op while saving (showing 5 of 6). These functions will not be directly callable after loading.\n"
     ]
    },
    {
     "name": "stdout",
     "output_type": "stream",
     "text": [
      "INFO:tensorflow:Assets written to: ./obj\\assets\n"
     ]
    },
    {
     "name": "stderr",
     "output_type": "stream",
     "text": [
      "INFO:tensorflow:Assets written to: ./obj\\assets\n"
     ]
    },
    {
     "name": "stdout",
     "output_type": "stream",
     "text": [
      "1250/1250 [==============================] - 153s 123ms/step - loss: 0.0413 - accuracy: 0.9250 - precision: 0.9390 - recall: 0.9139 - val_loss: 0.0897 - val_accuracy: 0.8515 - val_precision: 0.8727 - val_recall: 0.8376\n",
      "Epoch 31/100\n",
      "1250/1250 [==============================] - ETA: 0s - loss: 0.0405 - accuracy: 0.9269 - precision: 0.9407 - recall: 0.9169\n",
      "Epoch 31: saving model to ./obj\\\n"
     ]
    },
    {
     "name": "stderr",
     "output_type": "stream",
     "text": [
      "WARNING:absl:Found untraced functions such as _jit_compiled_convolution_op, _jit_compiled_convolution_op, _jit_compiled_convolution_op, _jit_compiled_convolution_op, _jit_compiled_convolution_op while saving (showing 5 of 6). These functions will not be directly callable after loading.\n"
     ]
    },
    {
     "name": "stdout",
     "output_type": "stream",
     "text": [
      "INFO:tensorflow:Assets written to: ./obj\\assets\n"
     ]
    },
    {
     "name": "stderr",
     "output_type": "stream",
     "text": [
      "INFO:tensorflow:Assets written to: ./obj\\assets\n"
     ]
    },
    {
     "name": "stdout",
     "output_type": "stream",
     "text": [
      "1250/1250 [==============================] - 146s 117ms/step - loss: 0.0405 - accuracy: 0.9269 - precision: 0.9407 - recall: 0.9169 - val_loss: 0.1020 - val_accuracy: 0.8413 - val_precision: 0.8612 - val_recall: 0.8314\n",
      "Epoch 32/100\n",
      "1250/1250 [==============================] - ETA: 0s - loss: 0.0404 - accuracy: 0.9292 - precision: 0.9421 - recall: 0.9186\n",
      "Epoch 32: saving model to ./obj\\\n"
     ]
    },
    {
     "name": "stderr",
     "output_type": "stream",
     "text": [
      "WARNING:absl:Found untraced functions such as _jit_compiled_convolution_op, _jit_compiled_convolution_op, _jit_compiled_convolution_op, _jit_compiled_convolution_op, _jit_compiled_convolution_op while saving (showing 5 of 6). These functions will not be directly callable after loading.\n"
     ]
    },
    {
     "name": "stdout",
     "output_type": "stream",
     "text": [
      "INFO:tensorflow:Assets written to: ./obj\\assets\n"
     ]
    },
    {
     "name": "stderr",
     "output_type": "stream",
     "text": [
      "INFO:tensorflow:Assets written to: ./obj\\assets\n"
     ]
    },
    {
     "name": "stdout",
     "output_type": "stream",
     "text": [
      "1250/1250 [==============================] - 246s 197ms/step - loss: 0.0404 - accuracy: 0.9292 - precision: 0.9421 - recall: 0.9186 - val_loss: 0.0954 - val_accuracy: 0.8476 - val_precision: 0.8663 - val_recall: 0.8352\n",
      "Epoch 33/100\n",
      "1250/1250 [==============================] - ETA: 0s - loss: 0.0392 - accuracy: 0.9305 - precision: 0.9434 - recall: 0.9192\n",
      "Epoch 33: saving model to ./obj\\\n"
     ]
    },
    {
     "name": "stderr",
     "output_type": "stream",
     "text": [
      "WARNING:absl:Found untraced functions such as _jit_compiled_convolution_op, _jit_compiled_convolution_op, _jit_compiled_convolution_op, _jit_compiled_convolution_op, _jit_compiled_convolution_op while saving (showing 5 of 6). These functions will not be directly callable after loading.\n"
     ]
    },
    {
     "name": "stdout",
     "output_type": "stream",
     "text": [
      "INFO:tensorflow:Assets written to: ./obj\\assets\n"
     ]
    },
    {
     "name": "stderr",
     "output_type": "stream",
     "text": [
      "INFO:tensorflow:Assets written to: ./obj\\assets\n"
     ]
    },
    {
     "name": "stdout",
     "output_type": "stream",
     "text": [
      "1250/1250 [==============================] - 132s 106ms/step - loss: 0.0392 - accuracy: 0.9305 - precision: 0.9434 - recall: 0.9192 - val_loss: 0.0951 - val_accuracy: 0.8473 - val_precision: 0.8665 - val_recall: 0.8369\n",
      "Epoch 34/100\n",
      "1250/1250 [==============================] - ETA: 0s - loss: 0.0382 - accuracy: 0.9329 - precision: 0.9453 - recall: 0.9228\n",
      "Epoch 34: saving model to ./obj\\\n"
     ]
    },
    {
     "name": "stderr",
     "output_type": "stream",
     "text": [
      "WARNING:absl:Found untraced functions such as _jit_compiled_convolution_op, _jit_compiled_convolution_op, _jit_compiled_convolution_op, _jit_compiled_convolution_op, _jit_compiled_convolution_op while saving (showing 5 of 6). These functions will not be directly callable after loading.\n"
     ]
    },
    {
     "name": "stdout",
     "output_type": "stream",
     "text": [
      "INFO:tensorflow:Assets written to: ./obj\\assets\n"
     ]
    },
    {
     "name": "stderr",
     "output_type": "stream",
     "text": [
      "INFO:tensorflow:Assets written to: ./obj\\assets\n"
     ]
    },
    {
     "name": "stdout",
     "output_type": "stream",
     "text": [
      "1250/1250 [==============================] - 157s 126ms/step - loss: 0.0382 - accuracy: 0.9329 - precision: 0.9453 - recall: 0.9228 - val_loss: 0.0917 - val_accuracy: 0.8487 - val_precision: 0.8697 - val_recall: 0.8378\n",
      "Epoch 35/100\n",
      "1250/1250 [==============================] - ETA: 0s - loss: 0.0378 - accuracy: 0.9352 - precision: 0.9467 - recall: 0.9254\n",
      "Epoch 35: saving model to ./obj\\\n"
     ]
    },
    {
     "name": "stderr",
     "output_type": "stream",
     "text": [
      "WARNING:absl:Found untraced functions such as _jit_compiled_convolution_op, _jit_compiled_convolution_op, _jit_compiled_convolution_op, _jit_compiled_convolution_op, _jit_compiled_convolution_op while saving (showing 5 of 6). These functions will not be directly callable after loading.\n"
     ]
    },
    {
     "name": "stdout",
     "output_type": "stream",
     "text": [
      "INFO:tensorflow:Assets written to: ./obj\\assets\n"
     ]
    },
    {
     "name": "stderr",
     "output_type": "stream",
     "text": [
      "INFO:tensorflow:Assets written to: ./obj\\assets\n"
     ]
    },
    {
     "name": "stdout",
     "output_type": "stream",
     "text": [
      "1250/1250 [==============================] - 89s 71ms/step - loss: 0.0378 - accuracy: 0.9352 - precision: 0.9467 - recall: 0.9254 - val_loss: 0.0964 - val_accuracy: 0.8483 - val_precision: 0.8658 - val_recall: 0.8386\n",
      "Epoch 36/100\n",
      "1250/1250 [==============================] - ETA: 0s - loss: 0.0366 - accuracy: 0.9355 - precision: 0.9479 - recall: 0.9272\n",
      "Epoch 36: saving model to ./obj\\\n"
     ]
    },
    {
     "name": "stderr",
     "output_type": "stream",
     "text": [
      "WARNING:absl:Found untraced functions such as _jit_compiled_convolution_op, _jit_compiled_convolution_op, _jit_compiled_convolution_op, _jit_compiled_convolution_op, _jit_compiled_convolution_op while saving (showing 5 of 6). These functions will not be directly callable after loading.\n"
     ]
    },
    {
     "name": "stdout",
     "output_type": "stream",
     "text": [
      "INFO:tensorflow:Assets written to: ./obj\\assets\n"
     ]
    },
    {
     "name": "stderr",
     "output_type": "stream",
     "text": [
      "INFO:tensorflow:Assets written to: ./obj\\assets\n"
     ]
    },
    {
     "name": "stdout",
     "output_type": "stream",
     "text": [
      "1250/1250 [==============================] - 93s 74ms/step - loss: 0.0366 - accuracy: 0.9355 - precision: 0.9479 - recall: 0.9272 - val_loss: 0.1033 - val_accuracy: 0.8351 - val_precision: 0.8579 - val_recall: 0.8239\n",
      "Epoch 37/100\n",
      "1250/1250 [==============================] - ETA: 0s - loss: 0.0355 - accuracy: 0.9397 - precision: 0.9507 - recall: 0.9317\n",
      "Epoch 37: saving model to ./obj\\\n"
     ]
    },
    {
     "name": "stderr",
     "output_type": "stream",
     "text": [
      "WARNING:absl:Found untraced functions such as _jit_compiled_convolution_op, _jit_compiled_convolution_op, _jit_compiled_convolution_op, _jit_compiled_convolution_op, _jit_compiled_convolution_op while saving (showing 5 of 6). These functions will not be directly callable after loading.\n"
     ]
    },
    {
     "name": "stdout",
     "output_type": "stream",
     "text": [
      "INFO:tensorflow:Assets written to: ./obj\\assets\n"
     ]
    },
    {
     "name": "stderr",
     "output_type": "stream",
     "text": [
      "INFO:tensorflow:Assets written to: ./obj\\assets\n"
     ]
    },
    {
     "name": "stdout",
     "output_type": "stream",
     "text": [
      "1250/1250 [==============================] - 96s 77ms/step - loss: 0.0355 - accuracy: 0.9397 - precision: 0.9507 - recall: 0.9317 - val_loss: 0.0942 - val_accuracy: 0.8512 - val_precision: 0.8671 - val_recall: 0.8407\n",
      "Epoch 38/100\n",
      "1250/1250 [==============================] - ETA: 0s - loss: 0.0350 - accuracy: 0.9407 - precision: 0.9509 - recall: 0.9320\n",
      "Epoch 38: saving model to ./obj\\\n"
     ]
    },
    {
     "name": "stderr",
     "output_type": "stream",
     "text": [
      "WARNING:absl:Found untraced functions such as _jit_compiled_convolution_op, _jit_compiled_convolution_op, _jit_compiled_convolution_op, _jit_compiled_convolution_op, _jit_compiled_convolution_op while saving (showing 5 of 6). These functions will not be directly callable after loading.\n"
     ]
    },
    {
     "name": "stdout",
     "output_type": "stream",
     "text": [
      "INFO:tensorflow:Assets written to: ./obj\\assets\n"
     ]
    },
    {
     "name": "stderr",
     "output_type": "stream",
     "text": [
      "INFO:tensorflow:Assets written to: ./obj\\assets\n"
     ]
    },
    {
     "name": "stdout",
     "output_type": "stream",
     "text": [
      "1250/1250 [==============================] - 98s 79ms/step - loss: 0.0350 - accuracy: 0.9407 - precision: 0.9509 - recall: 0.9320 - val_loss: 0.0976 - val_accuracy: 0.8527 - val_precision: 0.8688 - val_recall: 0.8432\n",
      "Epoch 39/100\n",
      "1250/1250 [==============================] - ETA: 0s - loss: 0.0350 - accuracy: 0.9395 - precision: 0.9507 - recall: 0.9310\n",
      "Epoch 39: saving model to ./obj\\\n"
     ]
    },
    {
     "name": "stderr",
     "output_type": "stream",
     "text": [
      "WARNING:absl:Found untraced functions such as _jit_compiled_convolution_op, _jit_compiled_convolution_op, _jit_compiled_convolution_op, _jit_compiled_convolution_op, _jit_compiled_convolution_op while saving (showing 5 of 6). These functions will not be directly callable after loading.\n"
     ]
    },
    {
     "name": "stdout",
     "output_type": "stream",
     "text": [
      "INFO:tensorflow:Assets written to: ./obj\\assets\n"
     ]
    },
    {
     "name": "stderr",
     "output_type": "stream",
     "text": [
      "INFO:tensorflow:Assets written to: ./obj\\assets\n"
     ]
    },
    {
     "name": "stdout",
     "output_type": "stream",
     "text": [
      "1250/1250 [==============================] - 93s 74ms/step - loss: 0.0350 - accuracy: 0.9395 - precision: 0.9507 - recall: 0.9310 - val_loss: 0.0934 - val_accuracy: 0.8526 - val_precision: 0.8711 - val_recall: 0.8426\n",
      "Epoch 40/100\n",
      "1250/1250 [==============================] - ETA: 0s - loss: 0.0344 - accuracy: 0.9413 - precision: 0.9517 - recall: 0.9335\n",
      "Epoch 40: saving model to ./obj\\\n"
     ]
    },
    {
     "name": "stderr",
     "output_type": "stream",
     "text": [
      "WARNING:absl:Found untraced functions such as _jit_compiled_convolution_op, _jit_compiled_convolution_op, _jit_compiled_convolution_op, _jit_compiled_convolution_op, _jit_compiled_convolution_op while saving (showing 5 of 6). These functions will not be directly callable after loading.\n"
     ]
    },
    {
     "name": "stdout",
     "output_type": "stream",
     "text": [
      "INFO:tensorflow:Assets written to: ./obj\\assets\n"
     ]
    },
    {
     "name": "stderr",
     "output_type": "stream",
     "text": [
      "INFO:tensorflow:Assets written to: ./obj\\assets\n"
     ]
    },
    {
     "name": "stdout",
     "output_type": "stream",
     "text": [
      "1250/1250 [==============================] - 91s 73ms/step - loss: 0.0344 - accuracy: 0.9413 - precision: 0.9517 - recall: 0.9335 - val_loss: 0.0982 - val_accuracy: 0.8544 - val_precision: 0.8729 - val_recall: 0.8440\n",
      "Epoch 41/100\n",
      "1250/1250 [==============================] - ETA: 0s - loss: 0.0333 - accuracy: 0.9416 - precision: 0.9520 - recall: 0.9340\n",
      "Epoch 41: saving model to ./obj\\\n"
     ]
    },
    {
     "name": "stderr",
     "output_type": "stream",
     "text": [
      "WARNING:absl:Found untraced functions such as _jit_compiled_convolution_op, _jit_compiled_convolution_op, _jit_compiled_convolution_op, _jit_compiled_convolution_op, _jit_compiled_convolution_op while saving (showing 5 of 6). These functions will not be directly callable after loading.\n"
     ]
    },
    {
     "name": "stdout",
     "output_type": "stream",
     "text": [
      "INFO:tensorflow:Assets written to: ./obj\\assets\n"
     ]
    },
    {
     "name": "stderr",
     "output_type": "stream",
     "text": [
      "INFO:tensorflow:Assets written to: ./obj\\assets\n"
     ]
    },
    {
     "name": "stdout",
     "output_type": "stream",
     "text": [
      "1250/1250 [==============================] - 91s 73ms/step - loss: 0.0333 - accuracy: 0.9416 - precision: 0.9520 - recall: 0.9340 - val_loss: 0.1029 - val_accuracy: 0.8502 - val_precision: 0.8639 - val_recall: 0.8416\n",
      "Epoch 42/100\n",
      "1249/1250 [============================>.] - ETA: 0s - loss: 0.0323 - accuracy: 0.9433 - precision: 0.9539 - recall: 0.9354\n",
      "Epoch 42: saving model to ./obj\\\n"
     ]
    },
    {
     "name": "stderr",
     "output_type": "stream",
     "text": [
      "WARNING:absl:Found untraced functions such as _jit_compiled_convolution_op, _jit_compiled_convolution_op, _jit_compiled_convolution_op, _jit_compiled_convolution_op, _jit_compiled_convolution_op while saving (showing 5 of 6). These functions will not be directly callable after loading.\n"
     ]
    },
    {
     "name": "stdout",
     "output_type": "stream",
     "text": [
      "INFO:tensorflow:Assets written to: ./obj\\assets\n"
     ]
    },
    {
     "name": "stderr",
     "output_type": "stream",
     "text": [
      "INFO:tensorflow:Assets written to: ./obj\\assets\n"
     ]
    },
    {
     "name": "stdout",
     "output_type": "stream",
     "text": [
      "1250/1250 [==============================] - 90s 72ms/step - loss: 0.0324 - accuracy: 0.9433 - precision: 0.9538 - recall: 0.9354 - val_loss: 0.1022 - val_accuracy: 0.8455 - val_precision: 0.8627 - val_recall: 0.8339\n",
      "Epoch 43/100\n",
      "1250/1250 [==============================] - ETA: 0s - loss: 0.0327 - accuracy: 0.9444 - precision: 0.9542 - recall: 0.9370\n",
      "Epoch 43: saving model to ./obj\\\n"
     ]
    },
    {
     "name": "stderr",
     "output_type": "stream",
     "text": [
      "WARNING:absl:Found untraced functions such as _jit_compiled_convolution_op, _jit_compiled_convolution_op, _jit_compiled_convolution_op, _jit_compiled_convolution_op, _jit_compiled_convolution_op while saving (showing 5 of 6). These functions will not be directly callable after loading.\n"
     ]
    },
    {
     "name": "stdout",
     "output_type": "stream",
     "text": [
      "INFO:tensorflow:Assets written to: ./obj\\assets\n"
     ]
    },
    {
     "name": "stderr",
     "output_type": "stream",
     "text": [
      "INFO:tensorflow:Assets written to: ./obj\\assets\n"
     ]
    },
    {
     "name": "stdout",
     "output_type": "stream",
     "text": [
      "1250/1250 [==============================] - 88s 71ms/step - loss: 0.0327 - accuracy: 0.9444 - precision: 0.9542 - recall: 0.9370 - val_loss: 0.0990 - val_accuracy: 0.8499 - val_precision: 0.8670 - val_recall: 0.8417\n",
      "Epoch 44/100\n",
      "1250/1250 [==============================] - ETA: 0s - loss: 0.0321 - accuracy: 0.9454 - precision: 0.9543 - recall: 0.9375\n",
      "Epoch 44: saving model to ./obj\\\n"
     ]
    },
    {
     "name": "stderr",
     "output_type": "stream",
     "text": [
      "WARNING:absl:Found untraced functions such as _jit_compiled_convolution_op, _jit_compiled_convolution_op, _jit_compiled_convolution_op, _jit_compiled_convolution_op, _jit_compiled_convolution_op while saving (showing 5 of 6). These functions will not be directly callable after loading.\n"
     ]
    },
    {
     "name": "stdout",
     "output_type": "stream",
     "text": [
      "INFO:tensorflow:Assets written to: ./obj\\assets\n"
     ]
    },
    {
     "name": "stderr",
     "output_type": "stream",
     "text": [
      "INFO:tensorflow:Assets written to: ./obj\\assets\n"
     ]
    },
    {
     "name": "stdout",
     "output_type": "stream",
     "text": [
      "1250/1250 [==============================] - 90s 72ms/step - loss: 0.0321 - accuracy: 0.9454 - precision: 0.9543 - recall: 0.9375 - val_loss: 0.0971 - val_accuracy: 0.8522 - val_precision: 0.8703 - val_recall: 0.8410\n",
      "Epoch 45/100\n",
      "1250/1250 [==============================] - ETA: 0s - loss: 0.0317 - accuracy: 0.9463 - precision: 0.9554 - recall: 0.9392\n",
      "Epoch 45: saving model to ./obj\\\n"
     ]
    },
    {
     "name": "stderr",
     "output_type": "stream",
     "text": [
      "WARNING:absl:Found untraced functions such as _jit_compiled_convolution_op, _jit_compiled_convolution_op, _jit_compiled_convolution_op, _jit_compiled_convolution_op, _jit_compiled_convolution_op while saving (showing 5 of 6). These functions will not be directly callable after loading.\n"
     ]
    },
    {
     "name": "stdout",
     "output_type": "stream",
     "text": [
      "INFO:tensorflow:Assets written to: ./obj\\assets\n"
     ]
    },
    {
     "name": "stderr",
     "output_type": "stream",
     "text": [
      "INFO:tensorflow:Assets written to: ./obj\\assets\n"
     ]
    },
    {
     "name": "stdout",
     "output_type": "stream",
     "text": [
      "1250/1250 [==============================] - 89s 71ms/step - loss: 0.0317 - accuracy: 0.9463 - precision: 0.9554 - recall: 0.9392 - val_loss: 0.0926 - val_accuracy: 0.8548 - val_precision: 0.8732 - val_recall: 0.8417\n",
      "Epoch 46/100\n",
      "1250/1250 [==============================] - ETA: 0s - loss: 0.0301 - accuracy: 0.9489 - precision: 0.9578 - recall: 0.9412\n",
      "Epoch 46: saving model to ./obj\\\n"
     ]
    },
    {
     "name": "stderr",
     "output_type": "stream",
     "text": [
      "WARNING:absl:Found untraced functions such as _jit_compiled_convolution_op, _jit_compiled_convolution_op, _jit_compiled_convolution_op, _jit_compiled_convolution_op, _jit_compiled_convolution_op while saving (showing 5 of 6). These functions will not be directly callable after loading.\n"
     ]
    },
    {
     "name": "stdout",
     "output_type": "stream",
     "text": [
      "INFO:tensorflow:Assets written to: ./obj\\assets\n"
     ]
    },
    {
     "name": "stderr",
     "output_type": "stream",
     "text": [
      "INFO:tensorflow:Assets written to: ./obj\\assets\n"
     ]
    },
    {
     "name": "stdout",
     "output_type": "stream",
     "text": [
      "1250/1250 [==============================] - 90s 72ms/step - loss: 0.0301 - accuracy: 0.9489 - precision: 0.9578 - recall: 0.9412 - val_loss: 0.0993 - val_accuracy: 0.8504 - val_precision: 0.8655 - val_recall: 0.8424\n",
      "Epoch 47/100\n",
      "1250/1250 [==============================] - ETA: 0s - loss: 0.0301 - accuracy: 0.9484 - precision: 0.9569 - recall: 0.9414\n",
      "Epoch 47: saving model to ./obj\\\n"
     ]
    },
    {
     "name": "stderr",
     "output_type": "stream",
     "text": [
      "WARNING:absl:Found untraced functions such as _jit_compiled_convolution_op, _jit_compiled_convolution_op, _jit_compiled_convolution_op, _jit_compiled_convolution_op, _jit_compiled_convolution_op while saving (showing 5 of 6). These functions will not be directly callable after loading.\n"
     ]
    },
    {
     "name": "stdout",
     "output_type": "stream",
     "text": [
      "INFO:tensorflow:Assets written to: ./obj\\assets\n"
     ]
    },
    {
     "name": "stderr",
     "output_type": "stream",
     "text": [
      "INFO:tensorflow:Assets written to: ./obj\\assets\n"
     ]
    },
    {
     "name": "stdout",
     "output_type": "stream",
     "text": [
      "1250/1250 [==============================] - 98s 78ms/step - loss: 0.0301 - accuracy: 0.9484 - precision: 0.9569 - recall: 0.9414 - val_loss: 0.1104 - val_accuracy: 0.8360 - val_precision: 0.8523 - val_recall: 0.8267\n",
      "Epoch 48/100\n",
      "1250/1250 [==============================] - ETA: 0s - loss: 0.0294 - accuracy: 0.9505 - precision: 0.9585 - recall: 0.9440\n",
      "Epoch 48: saving model to ./obj\\\n"
     ]
    },
    {
     "name": "stderr",
     "output_type": "stream",
     "text": [
      "WARNING:absl:Found untraced functions such as _jit_compiled_convolution_op, _jit_compiled_convolution_op, _jit_compiled_convolution_op, _jit_compiled_convolution_op, _jit_compiled_convolution_op while saving (showing 5 of 6). These functions will not be directly callable after loading.\n"
     ]
    },
    {
     "name": "stdout",
     "output_type": "stream",
     "text": [
      "INFO:tensorflow:Assets written to: ./obj\\assets\n"
     ]
    },
    {
     "name": "stderr",
     "output_type": "stream",
     "text": [
      "INFO:tensorflow:Assets written to: ./obj\\assets\n"
     ]
    },
    {
     "name": "stdout",
     "output_type": "stream",
     "text": [
      "1250/1250 [==============================] - 88s 71ms/step - loss: 0.0294 - accuracy: 0.9505 - precision: 0.9585 - recall: 0.9440 - val_loss: 0.0984 - val_accuracy: 0.8570 - val_precision: 0.8704 - val_recall: 0.8487\n",
      "Epoch 49/100\n",
      "1250/1250 [==============================] - ETA: 0s - loss: 0.0291 - accuracy: 0.9514 - precision: 0.9590 - recall: 0.9457\n",
      "Epoch 49: saving model to ./obj\\\n"
     ]
    },
    {
     "name": "stderr",
     "output_type": "stream",
     "text": [
      "WARNING:absl:Found untraced functions such as _jit_compiled_convolution_op, _jit_compiled_convolution_op, _jit_compiled_convolution_op, _jit_compiled_convolution_op, _jit_compiled_convolution_op while saving (showing 5 of 6). These functions will not be directly callable after loading.\n"
     ]
    },
    {
     "name": "stdout",
     "output_type": "stream",
     "text": [
      "INFO:tensorflow:Assets written to: ./obj\\assets\n"
     ]
    },
    {
     "name": "stderr",
     "output_type": "stream",
     "text": [
      "INFO:tensorflow:Assets written to: ./obj\\assets\n"
     ]
    },
    {
     "name": "stdout",
     "output_type": "stream",
     "text": [
      "1250/1250 [==============================] - 89s 71ms/step - loss: 0.0291 - accuracy: 0.9514 - precision: 0.9590 - recall: 0.9457 - val_loss: 0.1033 - val_accuracy: 0.8539 - val_precision: 0.8680 - val_recall: 0.8461\n",
      "Epoch 50/100\n",
      "1250/1250 [==============================] - ETA: 0s - loss: 0.0287 - accuracy: 0.9523 - precision: 0.9607 - recall: 0.9460\n",
      "Epoch 50: saving model to ./obj\\\n"
     ]
    },
    {
     "name": "stderr",
     "output_type": "stream",
     "text": [
      "WARNING:absl:Found untraced functions such as _jit_compiled_convolution_op, _jit_compiled_convolution_op, _jit_compiled_convolution_op, _jit_compiled_convolution_op, _jit_compiled_convolution_op while saving (showing 5 of 6). These functions will not be directly callable after loading.\n"
     ]
    },
    {
     "name": "stdout",
     "output_type": "stream",
     "text": [
      "INFO:tensorflow:Assets written to: ./obj\\assets\n"
     ]
    },
    {
     "name": "stderr",
     "output_type": "stream",
     "text": [
      "INFO:tensorflow:Assets written to: ./obj\\assets\n"
     ]
    },
    {
     "name": "stdout",
     "output_type": "stream",
     "text": [
      "1250/1250 [==============================] - 89s 71ms/step - loss: 0.0287 - accuracy: 0.9523 - precision: 0.9607 - recall: 0.9460 - val_loss: 0.1016 - val_accuracy: 0.8567 - val_precision: 0.8705 - val_recall: 0.8473\n",
      "Epoch 51/100\n",
      "1250/1250 [==============================] - ETA: 0s - loss: 0.0292 - accuracy: 0.9506 - precision: 0.9597 - recall: 0.9448\n",
      "Epoch 51: saving model to ./obj\\\n"
     ]
    },
    {
     "name": "stderr",
     "output_type": "stream",
     "text": [
      "WARNING:absl:Found untraced functions such as _jit_compiled_convolution_op, _jit_compiled_convolution_op, _jit_compiled_convolution_op, _jit_compiled_convolution_op, _jit_compiled_convolution_op while saving (showing 5 of 6). These functions will not be directly callable after loading.\n"
     ]
    },
    {
     "name": "stdout",
     "output_type": "stream",
     "text": [
      "INFO:tensorflow:Assets written to: ./obj\\assets\n"
     ]
    },
    {
     "name": "stderr",
     "output_type": "stream",
     "text": [
      "INFO:tensorflow:Assets written to: ./obj\\assets\n"
     ]
    },
    {
     "name": "stdout",
     "output_type": "stream",
     "text": [
      "1250/1250 [==============================] - 88s 70ms/step - loss: 0.0292 - accuracy: 0.9506 - precision: 0.9597 - recall: 0.9448 - val_loss: 0.1114 - val_accuracy: 0.8429 - val_precision: 0.8573 - val_recall: 0.8343\n",
      "Epoch 52/100\n",
      "1249/1250 [============================>.] - ETA: 0s - loss: 0.0283 - accuracy: 0.9532 - precision: 0.9608 - recall: 0.9471\n",
      "Epoch 52: saving model to ./obj\\\n"
     ]
    },
    {
     "name": "stderr",
     "output_type": "stream",
     "text": [
      "WARNING:absl:Found untraced functions such as _jit_compiled_convolution_op, _jit_compiled_convolution_op, _jit_compiled_convolution_op, _jit_compiled_convolution_op, _jit_compiled_convolution_op while saving (showing 5 of 6). These functions will not be directly callable after loading.\n"
     ]
    },
    {
     "name": "stdout",
     "output_type": "stream",
     "text": [
      "INFO:tensorflow:Assets written to: ./obj\\assets\n"
     ]
    },
    {
     "name": "stderr",
     "output_type": "stream",
     "text": [
      "INFO:tensorflow:Assets written to: ./obj\\assets\n"
     ]
    },
    {
     "name": "stdout",
     "output_type": "stream",
     "text": [
      "1250/1250 [==============================] - 89s 71ms/step - loss: 0.0283 - accuracy: 0.9532 - precision: 0.9608 - recall: 0.9471 - val_loss: 0.1024 - val_accuracy: 0.8555 - val_precision: 0.8696 - val_recall: 0.8478\n",
      "Epoch 53/100\n",
      "1250/1250 [==============================] - ETA: 0s - loss: 0.0276 - accuracy: 0.9536 - precision: 0.9609 - recall: 0.9482\n",
      "Epoch 53: saving model to ./obj\\\n"
     ]
    },
    {
     "name": "stderr",
     "output_type": "stream",
     "text": [
      "WARNING:absl:Found untraced functions such as _jit_compiled_convolution_op, _jit_compiled_convolution_op, _jit_compiled_convolution_op, _jit_compiled_convolution_op, _jit_compiled_convolution_op while saving (showing 5 of 6). These functions will not be directly callable after loading.\n"
     ]
    },
    {
     "name": "stdout",
     "output_type": "stream",
     "text": [
      "INFO:tensorflow:Assets written to: ./obj\\assets\n"
     ]
    },
    {
     "name": "stderr",
     "output_type": "stream",
     "text": [
      "INFO:tensorflow:Assets written to: ./obj\\assets\n"
     ]
    },
    {
     "name": "stdout",
     "output_type": "stream",
     "text": [
      "1250/1250 [==============================] - 89s 71ms/step - loss: 0.0276 - accuracy: 0.9536 - precision: 0.9609 - recall: 0.9482 - val_loss: 0.0965 - val_accuracy: 0.8555 - val_precision: 0.8720 - val_recall: 0.8459\n",
      "Epoch 54/100\n",
      "1250/1250 [==============================] - ETA: 0s - loss: 0.0268 - accuracy: 0.9539 - precision: 0.9615 - recall: 0.9483\n",
      "Epoch 54: saving model to ./obj\\\n"
     ]
    },
    {
     "name": "stderr",
     "output_type": "stream",
     "text": [
      "WARNING:absl:Found untraced functions such as _jit_compiled_convolution_op, _jit_compiled_convolution_op, _jit_compiled_convolution_op, _jit_compiled_convolution_op, _jit_compiled_convolution_op while saving (showing 5 of 6). These functions will not be directly callable after loading.\n"
     ]
    },
    {
     "name": "stdout",
     "output_type": "stream",
     "text": [
      "INFO:tensorflow:Assets written to: ./obj\\assets\n"
     ]
    },
    {
     "name": "stderr",
     "output_type": "stream",
     "text": [
      "INFO:tensorflow:Assets written to: ./obj\\assets\n"
     ]
    },
    {
     "name": "stdout",
     "output_type": "stream",
     "text": [
      "1250/1250 [==============================] - 88s 71ms/step - loss: 0.0268 - accuracy: 0.9539 - precision: 0.9615 - recall: 0.9483 - val_loss: 0.1015 - val_accuracy: 0.8565 - val_precision: 0.8718 - val_recall: 0.8491\n",
      "Epoch 55/100\n",
      "1250/1250 [==============================] - ETA: 0s - loss: 0.0271 - accuracy: 0.9553 - precision: 0.9625 - recall: 0.9490\n",
      "Epoch 55: saving model to ./obj\\\n"
     ]
    },
    {
     "name": "stderr",
     "output_type": "stream",
     "text": [
      "WARNING:absl:Found untraced functions such as _jit_compiled_convolution_op, _jit_compiled_convolution_op, _jit_compiled_convolution_op, _jit_compiled_convolution_op, _jit_compiled_convolution_op while saving (showing 5 of 6). These functions will not be directly callable after loading.\n"
     ]
    },
    {
     "name": "stdout",
     "output_type": "stream",
     "text": [
      "INFO:tensorflow:Assets written to: ./obj\\assets\n"
     ]
    },
    {
     "name": "stderr",
     "output_type": "stream",
     "text": [
      "INFO:tensorflow:Assets written to: ./obj\\assets\n"
     ]
    },
    {
     "name": "stdout",
     "output_type": "stream",
     "text": [
      "1250/1250 [==============================] - 90s 72ms/step - loss: 0.0271 - accuracy: 0.9553 - precision: 0.9625 - recall: 0.9490 - val_loss: 0.0986 - val_accuracy: 0.8589 - val_precision: 0.8738 - val_recall: 0.8511\n",
      "Epoch 56/100\n",
      "1250/1250 [==============================] - ETA: 0s - loss: 0.0263 - accuracy: 0.9567 - precision: 0.9641 - recall: 0.9507\n",
      "Epoch 56: saving model to ./obj\\\n"
     ]
    },
    {
     "name": "stderr",
     "output_type": "stream",
     "text": [
      "WARNING:absl:Found untraced functions such as _jit_compiled_convolution_op, _jit_compiled_convolution_op, _jit_compiled_convolution_op, _jit_compiled_convolution_op, _jit_compiled_convolution_op while saving (showing 5 of 6). These functions will not be directly callable after loading.\n"
     ]
    },
    {
     "name": "stdout",
     "output_type": "stream",
     "text": [
      "INFO:tensorflow:Assets written to: ./obj\\assets\n"
     ]
    },
    {
     "name": "stderr",
     "output_type": "stream",
     "text": [
      "INFO:tensorflow:Assets written to: ./obj\\assets\n"
     ]
    },
    {
     "name": "stdout",
     "output_type": "stream",
     "text": [
      "1250/1250 [==============================] - 92s 74ms/step - loss: 0.0263 - accuracy: 0.9567 - precision: 0.9641 - recall: 0.9507 - val_loss: 0.1025 - val_accuracy: 0.8550 - val_precision: 0.8693 - val_recall: 0.8464\n",
      "Epoch 57/100\n",
      "1250/1250 [==============================] - ETA: 0s - loss: 0.0265 - accuracy: 0.9565 - precision: 0.9632 - recall: 0.9509\n",
      "Epoch 57: saving model to ./obj\\\n"
     ]
    },
    {
     "name": "stderr",
     "output_type": "stream",
     "text": [
      "WARNING:absl:Found untraced functions such as _jit_compiled_convolution_op, _jit_compiled_convolution_op, _jit_compiled_convolution_op, _jit_compiled_convolution_op, _jit_compiled_convolution_op while saving (showing 5 of 6). These functions will not be directly callable after loading.\n"
     ]
    },
    {
     "name": "stdout",
     "output_type": "stream",
     "text": [
      "INFO:tensorflow:Assets written to: ./obj\\assets\n"
     ]
    },
    {
     "name": "stderr",
     "output_type": "stream",
     "text": [
      "INFO:tensorflow:Assets written to: ./obj\\assets\n"
     ]
    },
    {
     "name": "stdout",
     "output_type": "stream",
     "text": [
      "1250/1250 [==============================] - 89s 71ms/step - loss: 0.0265 - accuracy: 0.9565 - precision: 0.9632 - recall: 0.9509 - val_loss: 0.1053 - val_accuracy: 0.8527 - val_precision: 0.8682 - val_recall: 0.8455\n",
      "Epoch 58/100\n",
      "1250/1250 [==============================] - ETA: 0s - loss: 0.0266 - accuracy: 0.9560 - precision: 0.9634 - recall: 0.9506\n",
      "Epoch 58: saving model to ./obj\\\n"
     ]
    },
    {
     "name": "stderr",
     "output_type": "stream",
     "text": [
      "WARNING:absl:Found untraced functions such as _jit_compiled_convolution_op, _jit_compiled_convolution_op, _jit_compiled_convolution_op, _jit_compiled_convolution_op, _jit_compiled_convolution_op while saving (showing 5 of 6). These functions will not be directly callable after loading.\n"
     ]
    },
    {
     "name": "stdout",
     "output_type": "stream",
     "text": [
      "INFO:tensorflow:Assets written to: ./obj\\assets\n"
     ]
    },
    {
     "name": "stderr",
     "output_type": "stream",
     "text": [
      "INFO:tensorflow:Assets written to: ./obj\\assets\n"
     ]
    },
    {
     "name": "stdout",
     "output_type": "stream",
     "text": [
      "1250/1250 [==============================] - 91s 73ms/step - loss: 0.0266 - accuracy: 0.9560 - precision: 0.9634 - recall: 0.9506 - val_loss: 0.1004 - val_accuracy: 0.8598 - val_precision: 0.8744 - val_recall: 0.8512\n",
      "Epoch 59/100\n",
      "1250/1250 [==============================] - ETA: 0s - loss: 0.0260 - accuracy: 0.9574 - precision: 0.9642 - recall: 0.9519\n",
      "Epoch 59: saving model to ./obj\\\n"
     ]
    },
    {
     "name": "stderr",
     "output_type": "stream",
     "text": [
      "WARNING:absl:Found untraced functions such as _jit_compiled_convolution_op, _jit_compiled_convolution_op, _jit_compiled_convolution_op, _jit_compiled_convolution_op, _jit_compiled_convolution_op while saving (showing 5 of 6). These functions will not be directly callable after loading.\n"
     ]
    },
    {
     "name": "stdout",
     "output_type": "stream",
     "text": [
      "INFO:tensorflow:Assets written to: ./obj\\assets\n"
     ]
    },
    {
     "name": "stderr",
     "output_type": "stream",
     "text": [
      "INFO:tensorflow:Assets written to: ./obj\\assets\n"
     ]
    },
    {
     "name": "stdout",
     "output_type": "stream",
     "text": [
      "1250/1250 [==============================] - 89s 72ms/step - loss: 0.0260 - accuracy: 0.9574 - precision: 0.9642 - recall: 0.9519 - val_loss: 0.1149 - val_accuracy: 0.8353 - val_precision: 0.8533 - val_recall: 0.8261\n",
      "Epoch 60/100\n",
      "1249/1250 [============================>.] - ETA: 0s - loss: 0.0249 - accuracy: 0.9573 - precision: 0.9640 - recall: 0.9527\n",
      "Epoch 60: saving model to ./obj\\\n"
     ]
    },
    {
     "name": "stderr",
     "output_type": "stream",
     "text": [
      "WARNING:absl:Found untraced functions such as _jit_compiled_convolution_op, _jit_compiled_convolution_op, _jit_compiled_convolution_op, _jit_compiled_convolution_op, _jit_compiled_convolution_op while saving (showing 5 of 6). These functions will not be directly callable after loading.\n"
     ]
    },
    {
     "name": "stdout",
     "output_type": "stream",
     "text": [
      "INFO:tensorflow:Assets written to: ./obj\\assets\n"
     ]
    },
    {
     "name": "stderr",
     "output_type": "stream",
     "text": [
      "INFO:tensorflow:Assets written to: ./obj\\assets\n"
     ]
    },
    {
     "name": "stdout",
     "output_type": "stream",
     "text": [
      "1250/1250 [==============================] - 89s 71ms/step - loss: 0.0249 - accuracy: 0.9573 - precision: 0.9640 - recall: 0.9527 - val_loss: 0.1016 - val_accuracy: 0.8606 - val_precision: 0.8731 - val_recall: 0.8534\n",
      "Epoch 61/100\n",
      "1249/1250 [============================>.] - ETA: 0s - loss: 0.0253 - accuracy: 0.9588 - precision: 0.9646 - recall: 0.9542\n",
      "Epoch 61: saving model to ./obj\\\n"
     ]
    },
    {
     "name": "stderr",
     "output_type": "stream",
     "text": [
      "WARNING:absl:Found untraced functions such as _jit_compiled_convolution_op, _jit_compiled_convolution_op, _jit_compiled_convolution_op, _jit_compiled_convolution_op, _jit_compiled_convolution_op while saving (showing 5 of 6). These functions will not be directly callable after loading.\n"
     ]
    },
    {
     "name": "stdout",
     "output_type": "stream",
     "text": [
      "INFO:tensorflow:Assets written to: ./obj\\assets\n"
     ]
    },
    {
     "name": "stderr",
     "output_type": "stream",
     "text": [
      "INFO:tensorflow:Assets written to: ./obj\\assets\n"
     ]
    },
    {
     "name": "stdout",
     "output_type": "stream",
     "text": [
      "1250/1250 [==============================] - 90s 72ms/step - loss: 0.0253 - accuracy: 0.9588 - precision: 0.9647 - recall: 0.9542 - val_loss: 0.1026 - val_accuracy: 0.8581 - val_precision: 0.8706 - val_recall: 0.8508\n",
      "Epoch 62/100\n",
      "1250/1250 [==============================] - ETA: 0s - loss: 0.0248 - accuracy: 0.9605 - precision: 0.9674 - recall: 0.9551\n",
      "Epoch 62: saving model to ./obj\\\n"
     ]
    },
    {
     "name": "stderr",
     "output_type": "stream",
     "text": [
      "WARNING:absl:Found untraced functions such as _jit_compiled_convolution_op, _jit_compiled_convolution_op, _jit_compiled_convolution_op, _jit_compiled_convolution_op, _jit_compiled_convolution_op while saving (showing 5 of 6). These functions will not be directly callable after loading.\n"
     ]
    },
    {
     "name": "stdout",
     "output_type": "stream",
     "text": [
      "INFO:tensorflow:Assets written to: ./obj\\assets\n"
     ]
    },
    {
     "name": "stderr",
     "output_type": "stream",
     "text": [
      "INFO:tensorflow:Assets written to: ./obj\\assets\n"
     ]
    },
    {
     "name": "stdout",
     "output_type": "stream",
     "text": [
      "1250/1250 [==============================] - 91s 73ms/step - loss: 0.0248 - accuracy: 0.9605 - precision: 0.9674 - recall: 0.9551 - val_loss: 0.1160 - val_accuracy: 0.8455 - val_precision: 0.8612 - val_recall: 0.8362\n",
      "Epoch 63/100\n",
      "1249/1250 [============================>.] - ETA: 0s - loss: 0.0251 - accuracy: 0.9600 - precision: 0.9665 - recall: 0.9545\n",
      "Epoch 63: saving model to ./obj\\\n"
     ]
    },
    {
     "name": "stderr",
     "output_type": "stream",
     "text": [
      "WARNING:absl:Found untraced functions such as _jit_compiled_convolution_op, _jit_compiled_convolution_op, _jit_compiled_convolution_op, _jit_compiled_convolution_op, _jit_compiled_convolution_op while saving (showing 5 of 6). These functions will not be directly callable after loading.\n"
     ]
    },
    {
     "name": "stdout",
     "output_type": "stream",
     "text": [
      "INFO:tensorflow:Assets written to: ./obj\\assets\n"
     ]
    },
    {
     "name": "stderr",
     "output_type": "stream",
     "text": [
      "INFO:tensorflow:Assets written to: ./obj\\assets\n"
     ]
    },
    {
     "name": "stdout",
     "output_type": "stream",
     "text": [
      "1250/1250 [==============================] - 90s 72ms/step - loss: 0.0251 - accuracy: 0.9600 - precision: 0.9665 - recall: 0.9546 - val_loss: 0.1090 - val_accuracy: 0.8575 - val_precision: 0.8721 - val_recall: 0.8514\n",
      "Epoch 64/100\n",
      "1250/1250 [==============================] - ETA: 0s - loss: 0.0238 - accuracy: 0.9609 - precision: 0.9674 - recall: 0.9558\n",
      "Epoch 64: saving model to ./obj\\\n"
     ]
    },
    {
     "name": "stderr",
     "output_type": "stream",
     "text": [
      "WARNING:absl:Found untraced functions such as _jit_compiled_convolution_op, _jit_compiled_convolution_op, _jit_compiled_convolution_op, _jit_compiled_convolution_op, _jit_compiled_convolution_op while saving (showing 5 of 6). These functions will not be directly callable after loading.\n"
     ]
    },
    {
     "name": "stdout",
     "output_type": "stream",
     "text": [
      "INFO:tensorflow:Assets written to: ./obj\\assets\n"
     ]
    },
    {
     "name": "stderr",
     "output_type": "stream",
     "text": [
      "INFO:tensorflow:Assets written to: ./obj\\assets\n"
     ]
    },
    {
     "name": "stdout",
     "output_type": "stream",
     "text": [
      "1250/1250 [==============================] - 101s 81ms/step - loss: 0.0238 - accuracy: 0.9609 - precision: 0.9674 - recall: 0.9558 - val_loss: 0.1053 - val_accuracy: 0.8569 - val_precision: 0.8699 - val_recall: 0.8487\n",
      "Epoch 65/100\n",
      "1250/1250 [==============================] - ETA: 0s - loss: 0.0240 - accuracy: 0.9602 - precision: 0.9666 - recall: 0.9556\n",
      "Epoch 65: saving model to ./obj\\\n"
     ]
    },
    {
     "name": "stderr",
     "output_type": "stream",
     "text": [
      "WARNING:absl:Found untraced functions such as _jit_compiled_convolution_op, _jit_compiled_convolution_op, _jit_compiled_convolution_op, _jit_compiled_convolution_op, _jit_compiled_convolution_op while saving (showing 5 of 6). These functions will not be directly callable after loading.\n"
     ]
    },
    {
     "name": "stdout",
     "output_type": "stream",
     "text": [
      "INFO:tensorflow:Assets written to: ./obj\\assets\n"
     ]
    },
    {
     "name": "stderr",
     "output_type": "stream",
     "text": [
      "INFO:tensorflow:Assets written to: ./obj\\assets\n"
     ]
    },
    {
     "name": "stdout",
     "output_type": "stream",
     "text": [
      "1250/1250 [==============================] - 112s 90ms/step - loss: 0.0240 - accuracy: 0.9602 - precision: 0.9666 - recall: 0.9556 - val_loss: 0.1018 - val_accuracy: 0.8589 - val_precision: 0.8731 - val_recall: 0.8514\n",
      "Epoch 66/100\n",
      "1250/1250 [==============================] - ETA: 0s - loss: 0.0251 - accuracy: 0.9587 - precision: 0.9652 - recall: 0.9535\n",
      "Epoch 66: saving model to ./obj\\\n"
     ]
    },
    {
     "name": "stderr",
     "output_type": "stream",
     "text": [
      "WARNING:absl:Found untraced functions such as _jit_compiled_convolution_op, _jit_compiled_convolution_op, _jit_compiled_convolution_op, _jit_compiled_convolution_op, _jit_compiled_convolution_op while saving (showing 5 of 6). These functions will not be directly callable after loading.\n"
     ]
    },
    {
     "name": "stdout",
     "output_type": "stream",
     "text": [
      "INFO:tensorflow:Assets written to: ./obj\\assets\n"
     ]
    },
    {
     "name": "stderr",
     "output_type": "stream",
     "text": [
      "INFO:tensorflow:Assets written to: ./obj\\assets\n"
     ]
    },
    {
     "name": "stdout",
     "output_type": "stream",
     "text": [
      "1250/1250 [==============================] - 113s 91ms/step - loss: 0.0251 - accuracy: 0.9587 - precision: 0.9652 - recall: 0.9535 - val_loss: 0.1023 - val_accuracy: 0.8577 - val_precision: 0.8716 - val_recall: 0.8502\n",
      "Epoch 67/100\n",
      "1250/1250 [==============================] - ETA: 0s - loss: 0.0237 - accuracy: 0.9613 - precision: 0.9672 - recall: 0.9569\n",
      "Epoch 67: saving model to ./obj\\\n"
     ]
    },
    {
     "name": "stderr",
     "output_type": "stream",
     "text": [
      "WARNING:absl:Found untraced functions such as _jit_compiled_convolution_op, _jit_compiled_convolution_op, _jit_compiled_convolution_op, _jit_compiled_convolution_op, _jit_compiled_convolution_op while saving (showing 5 of 6). These functions will not be directly callable after loading.\n"
     ]
    },
    {
     "name": "stdout",
     "output_type": "stream",
     "text": [
      "INFO:tensorflow:Assets written to: ./obj\\assets\n"
     ]
    },
    {
     "name": "stderr",
     "output_type": "stream",
     "text": [
      "INFO:tensorflow:Assets written to: ./obj\\assets\n"
     ]
    },
    {
     "name": "stdout",
     "output_type": "stream",
     "text": [
      "1250/1250 [==============================] - 101s 81ms/step - loss: 0.0237 - accuracy: 0.9613 - precision: 0.9672 - recall: 0.9569 - val_loss: 0.1092 - val_accuracy: 0.8546 - val_precision: 0.8677 - val_recall: 0.8459\n",
      "Epoch 68/100\n",
      "1250/1250 [==============================] - ETA: 0s - loss: 0.0234 - accuracy: 0.9629 - precision: 0.9689 - recall: 0.9581\n",
      "Epoch 68: saving model to ./obj\\\n"
     ]
    },
    {
     "name": "stderr",
     "output_type": "stream",
     "text": [
      "WARNING:absl:Found untraced functions such as _jit_compiled_convolution_op, _jit_compiled_convolution_op, _jit_compiled_convolution_op, _jit_compiled_convolution_op, _jit_compiled_convolution_op while saving (showing 5 of 6). These functions will not be directly callable after loading.\n"
     ]
    },
    {
     "name": "stdout",
     "output_type": "stream",
     "text": [
      "INFO:tensorflow:Assets written to: ./obj\\assets\n"
     ]
    },
    {
     "name": "stderr",
     "output_type": "stream",
     "text": [
      "INFO:tensorflow:Assets written to: ./obj\\assets\n"
     ]
    },
    {
     "name": "stdout",
     "output_type": "stream",
     "text": [
      "1250/1250 [==============================] - 85s 68ms/step - loss: 0.0234 - accuracy: 0.9629 - precision: 0.9689 - recall: 0.9581 - val_loss: 0.1094 - val_accuracy: 0.8563 - val_precision: 0.8705 - val_recall: 0.8506\n",
      "Epoch 69/100\n",
      "1249/1250 [============================>.] - ETA: 0s - loss: 0.0237 - accuracy: 0.9625 - precision: 0.9676 - recall: 0.9577\n",
      "Epoch 69: saving model to ./obj\\\n"
     ]
    },
    {
     "name": "stderr",
     "output_type": "stream",
     "text": [
      "WARNING:absl:Found untraced functions such as _jit_compiled_convolution_op, _jit_compiled_convolution_op, _jit_compiled_convolution_op, _jit_compiled_convolution_op, _jit_compiled_convolution_op while saving (showing 5 of 6). These functions will not be directly callable after loading.\n"
     ]
    },
    {
     "name": "stdout",
     "output_type": "stream",
     "text": [
      "INFO:tensorflow:Assets written to: ./obj\\assets\n"
     ]
    },
    {
     "name": "stderr",
     "output_type": "stream",
     "text": [
      "INFO:tensorflow:Assets written to: ./obj\\assets\n"
     ]
    },
    {
     "name": "stdout",
     "output_type": "stream",
     "text": [
      "1250/1250 [==============================] - 85s 68ms/step - loss: 0.0237 - accuracy: 0.9625 - precision: 0.9676 - recall: 0.9577 - val_loss: 0.1072 - val_accuracy: 0.8543 - val_precision: 0.8673 - val_recall: 0.8456\n",
      "Epoch 70/100\n",
      "1250/1250 [==============================] - ETA: 0s - loss: 0.0225 - accuracy: 0.9629 - precision: 0.9688 - recall: 0.9585\n",
      "Epoch 70: saving model to ./obj\\\n"
     ]
    },
    {
     "name": "stderr",
     "output_type": "stream",
     "text": [
      "WARNING:absl:Found untraced functions such as _jit_compiled_convolution_op, _jit_compiled_convolution_op, _jit_compiled_convolution_op, _jit_compiled_convolution_op, _jit_compiled_convolution_op while saving (showing 5 of 6). These functions will not be directly callable after loading.\n"
     ]
    },
    {
     "name": "stdout",
     "output_type": "stream",
     "text": [
      "INFO:tensorflow:Assets written to: ./obj\\assets\n"
     ]
    },
    {
     "name": "stderr",
     "output_type": "stream",
     "text": [
      "INFO:tensorflow:Assets written to: ./obj\\assets\n"
     ]
    },
    {
     "name": "stdout",
     "output_type": "stream",
     "text": [
      "1250/1250 [==============================] - 85s 68ms/step - loss: 0.0225 - accuracy: 0.9629 - precision: 0.9688 - recall: 0.9585 - val_loss: 0.1094 - val_accuracy: 0.8536 - val_precision: 0.8674 - val_recall: 0.8462\n",
      "Epoch 71/100\n",
      "1250/1250 [==============================] - ETA: 0s - loss: 0.0231 - accuracy: 0.9627 - precision: 0.9678 - recall: 0.9580\n",
      "Epoch 71: saving model to ./obj\\\n"
     ]
    },
    {
     "name": "stderr",
     "output_type": "stream",
     "text": [
      "WARNING:absl:Found untraced functions such as _jit_compiled_convolution_op, _jit_compiled_convolution_op, _jit_compiled_convolution_op, _jit_compiled_convolution_op, _jit_compiled_convolution_op while saving (showing 5 of 6). These functions will not be directly callable after loading.\n"
     ]
    },
    {
     "name": "stdout",
     "output_type": "stream",
     "text": [
      "INFO:tensorflow:Assets written to: ./obj\\assets\n"
     ]
    },
    {
     "name": "stderr",
     "output_type": "stream",
     "text": [
      "INFO:tensorflow:Assets written to: ./obj\\assets\n"
     ]
    },
    {
     "name": "stdout",
     "output_type": "stream",
     "text": [
      "1250/1250 [==============================] - 87s 69ms/step - loss: 0.0231 - accuracy: 0.9627 - precision: 0.9678 - recall: 0.9580 - val_loss: 0.1053 - val_accuracy: 0.8535 - val_precision: 0.8685 - val_recall: 0.8455\n",
      "Epoch 72/100\n",
      "1250/1250 [==============================] - ETA: 0s - loss: 0.0223 - accuracy: 0.9635 - precision: 0.9695 - recall: 0.9589\n",
      "Epoch 72: saving model to ./obj\\\n"
     ]
    },
    {
     "name": "stderr",
     "output_type": "stream",
     "text": [
      "WARNING:absl:Found untraced functions such as _jit_compiled_convolution_op, _jit_compiled_convolution_op, _jit_compiled_convolution_op, _jit_compiled_convolution_op, _jit_compiled_convolution_op while saving (showing 5 of 6). These functions will not be directly callable after loading.\n"
     ]
    },
    {
     "name": "stdout",
     "output_type": "stream",
     "text": [
      "INFO:tensorflow:Assets written to: ./obj\\assets\n"
     ]
    },
    {
     "name": "stderr",
     "output_type": "stream",
     "text": [
      "INFO:tensorflow:Assets written to: ./obj\\assets\n"
     ]
    },
    {
     "name": "stdout",
     "output_type": "stream",
     "text": [
      "1250/1250 [==============================] - 88s 70ms/step - loss: 0.0223 - accuracy: 0.9635 - precision: 0.9695 - recall: 0.9589 - val_loss: 0.1088 - val_accuracy: 0.8569 - val_precision: 0.8679 - val_recall: 0.8528\n",
      "Epoch 73/100\n",
      "1250/1250 [==============================] - ETA: 0s - loss: 0.0216 - accuracy: 0.9655 - precision: 0.9707 - recall: 0.9613\n",
      "Epoch 73: saving model to ./obj\\\n"
     ]
    },
    {
     "name": "stderr",
     "output_type": "stream",
     "text": [
      "WARNING:absl:Found untraced functions such as _jit_compiled_convolution_op, _jit_compiled_convolution_op, _jit_compiled_convolution_op, _jit_compiled_convolution_op, _jit_compiled_convolution_op while saving (showing 5 of 6). These functions will not be directly callable after loading.\n"
     ]
    },
    {
     "name": "stdout",
     "output_type": "stream",
     "text": [
      "INFO:tensorflow:Assets written to: ./obj\\assets\n"
     ]
    },
    {
     "name": "stderr",
     "output_type": "stream",
     "text": [
      "INFO:tensorflow:Assets written to: ./obj\\assets\n"
     ]
    },
    {
     "name": "stdout",
     "output_type": "stream",
     "text": [
      "1250/1250 [==============================] - 84s 67ms/step - loss: 0.0216 - accuracy: 0.9655 - precision: 0.9707 - recall: 0.9613 - val_loss: 0.1175 - val_accuracy: 0.8599 - val_precision: 0.8699 - val_recall: 0.8540\n",
      "Epoch 74/100\n",
      "1250/1250 [==============================] - ETA: 0s - loss: 0.0223 - accuracy: 0.9650 - precision: 0.9707 - recall: 0.9611\n",
      "Epoch 74: saving model to ./obj\\\n"
     ]
    },
    {
     "name": "stderr",
     "output_type": "stream",
     "text": [
      "WARNING:absl:Found untraced functions such as _jit_compiled_convolution_op, _jit_compiled_convolution_op, _jit_compiled_convolution_op, _jit_compiled_convolution_op, _jit_compiled_convolution_op while saving (showing 5 of 6). These functions will not be directly callable after loading.\n"
     ]
    },
    {
     "name": "stdout",
     "output_type": "stream",
     "text": [
      "INFO:tensorflow:Assets written to: ./obj\\assets\n"
     ]
    },
    {
     "name": "stderr",
     "output_type": "stream",
     "text": [
      "INFO:tensorflow:Assets written to: ./obj\\assets\n"
     ]
    },
    {
     "name": "stdout",
     "output_type": "stream",
     "text": [
      "1250/1250 [==============================] - 85s 68ms/step - loss: 0.0223 - accuracy: 0.9650 - precision: 0.9707 - recall: 0.9611 - val_loss: 0.1048 - val_accuracy: 0.8567 - val_precision: 0.8703 - val_recall: 0.8481\n",
      "Epoch 75/100\n",
      "1250/1250 [==============================] - ETA: 0s - loss: 0.0216 - accuracy: 0.9656 - precision: 0.9704 - recall: 0.9613\n",
      "Epoch 75: saving model to ./obj\\\n"
     ]
    },
    {
     "name": "stderr",
     "output_type": "stream",
     "text": [
      "WARNING:absl:Found untraced functions such as _jit_compiled_convolution_op, _jit_compiled_convolution_op, _jit_compiled_convolution_op, _jit_compiled_convolution_op, _jit_compiled_convolution_op while saving (showing 5 of 6). These functions will not be directly callable after loading.\n"
     ]
    },
    {
     "name": "stdout",
     "output_type": "stream",
     "text": [
      "INFO:tensorflow:Assets written to: ./obj\\assets\n"
     ]
    },
    {
     "name": "stderr",
     "output_type": "stream",
     "text": [
      "INFO:tensorflow:Assets written to: ./obj\\assets\n"
     ]
    },
    {
     "name": "stdout",
     "output_type": "stream",
     "text": [
      "1250/1250 [==============================] - 86s 69ms/step - loss: 0.0216 - accuracy: 0.9656 - precision: 0.9704 - recall: 0.9613 - val_loss: 0.1023 - val_accuracy: 0.8599 - val_precision: 0.8760 - val_recall: 0.8519\n",
      "Epoch 76/100\n",
      "1250/1250 [==============================] - ETA: 0s - loss: 0.0223 - accuracy: 0.9655 - precision: 0.9707 - recall: 0.9609\n",
      "Epoch 76: saving model to ./obj\\\n"
     ]
    },
    {
     "name": "stderr",
     "output_type": "stream",
     "text": [
      "WARNING:absl:Found untraced functions such as _jit_compiled_convolution_op, _jit_compiled_convolution_op, _jit_compiled_convolution_op, _jit_compiled_convolution_op, _jit_compiled_convolution_op while saving (showing 5 of 6). These functions will not be directly callable after loading.\n"
     ]
    },
    {
     "name": "stdout",
     "output_type": "stream",
     "text": [
      "INFO:tensorflow:Assets written to: ./obj\\assets\n"
     ]
    },
    {
     "name": "stderr",
     "output_type": "stream",
     "text": [
      "INFO:tensorflow:Assets written to: ./obj\\assets\n"
     ]
    },
    {
     "name": "stdout",
     "output_type": "stream",
     "text": [
      "1250/1250 [==============================] - 91s 73ms/step - loss: 0.0223 - accuracy: 0.9655 - precision: 0.9707 - recall: 0.9609 - val_loss: 0.1169 - val_accuracy: 0.8526 - val_precision: 0.8655 - val_recall: 0.8450\n",
      "Epoch 77/100\n",
      "1249/1250 [============================>.] - ETA: 0s - loss: 0.0214 - accuracy: 0.9658 - precision: 0.9709 - recall: 0.9623\n",
      "Epoch 77: saving model to ./obj\\\n"
     ]
    },
    {
     "name": "stderr",
     "output_type": "stream",
     "text": [
      "WARNING:absl:Found untraced functions such as _jit_compiled_convolution_op, _jit_compiled_convolution_op, _jit_compiled_convolution_op, _jit_compiled_convolution_op, _jit_compiled_convolution_op while saving (showing 5 of 6). These functions will not be directly callable after loading.\n"
     ]
    },
    {
     "name": "stdout",
     "output_type": "stream",
     "text": [
      "INFO:tensorflow:Assets written to: ./obj\\assets\n"
     ]
    },
    {
     "name": "stderr",
     "output_type": "stream",
     "text": [
      "INFO:tensorflow:Assets written to: ./obj\\assets\n"
     ]
    },
    {
     "name": "stdout",
     "output_type": "stream",
     "text": [
      "1250/1250 [==============================] - 89s 71ms/step - loss: 0.0214 - accuracy: 0.9658 - precision: 0.9709 - recall: 0.9623 - val_loss: 0.1058 - val_accuracy: 0.8543 - val_precision: 0.8681 - val_recall: 0.8463\n",
      "Epoch 78/100\n",
      "1250/1250 [==============================] - ETA: 0s - loss: 0.0201 - accuracy: 0.9693 - precision: 0.9737 - recall: 0.9654\n",
      "Epoch 78: saving model to ./obj\\\n"
     ]
    },
    {
     "name": "stderr",
     "output_type": "stream",
     "text": [
      "WARNING:absl:Found untraced functions such as _jit_compiled_convolution_op, _jit_compiled_convolution_op, _jit_compiled_convolution_op, _jit_compiled_convolution_op, _jit_compiled_convolution_op while saving (showing 5 of 6). These functions will not be directly callable after loading.\n"
     ]
    },
    {
     "name": "stdout",
     "output_type": "stream",
     "text": [
      "INFO:tensorflow:Assets written to: ./obj\\assets\n"
     ]
    },
    {
     "name": "stderr",
     "output_type": "stream",
     "text": [
      "INFO:tensorflow:Assets written to: ./obj\\assets\n"
     ]
    },
    {
     "name": "stdout",
     "output_type": "stream",
     "text": [
      "1250/1250 [==============================] - 89s 71ms/step - loss: 0.0201 - accuracy: 0.9693 - precision: 0.9737 - recall: 0.9654 - val_loss: 0.1179 - val_accuracy: 0.8487 - val_precision: 0.8608 - val_recall: 0.8413\n",
      "Epoch 79/100\n",
      "1250/1250 [==============================] - ETA: 0s - loss: 0.0213 - accuracy: 0.9661 - precision: 0.9708 - recall: 0.9623\n",
      "Epoch 79: saving model to ./obj\\\n"
     ]
    },
    {
     "name": "stderr",
     "output_type": "stream",
     "text": [
      "WARNING:absl:Found untraced functions such as _jit_compiled_convolution_op, _jit_compiled_convolution_op, _jit_compiled_convolution_op, _jit_compiled_convolution_op, _jit_compiled_convolution_op while saving (showing 5 of 6). These functions will not be directly callable after loading.\n"
     ]
    },
    {
     "name": "stdout",
     "output_type": "stream",
     "text": [
      "INFO:tensorflow:Assets written to: ./obj\\assets\n"
     ]
    },
    {
     "name": "stderr",
     "output_type": "stream",
     "text": [
      "INFO:tensorflow:Assets written to: ./obj\\assets\n"
     ]
    },
    {
     "name": "stdout",
     "output_type": "stream",
     "text": [
      "1250/1250 [==============================] - 88s 71ms/step - loss: 0.0213 - accuracy: 0.9661 - precision: 0.9708 - recall: 0.9623 - val_loss: 0.1144 - val_accuracy: 0.8579 - val_precision: 0.8699 - val_recall: 0.8533\n",
      "Epoch 80/100\n",
      "1250/1250 [==============================] - ETA: 0s - loss: 0.0215 - accuracy: 0.9657 - precision: 0.9710 - recall: 0.9616\n",
      "Epoch 80: saving model to ./obj\\\n"
     ]
    },
    {
     "name": "stderr",
     "output_type": "stream",
     "text": [
      "WARNING:absl:Found untraced functions such as _jit_compiled_convolution_op, _jit_compiled_convolution_op, _jit_compiled_convolution_op, _jit_compiled_convolution_op, _jit_compiled_convolution_op while saving (showing 5 of 6). These functions will not be directly callable after loading.\n"
     ]
    },
    {
     "name": "stdout",
     "output_type": "stream",
     "text": [
      "INFO:tensorflow:Assets written to: ./obj\\assets\n"
     ]
    },
    {
     "name": "stderr",
     "output_type": "stream",
     "text": [
      "INFO:tensorflow:Assets written to: ./obj\\assets\n"
     ]
    },
    {
     "name": "stdout",
     "output_type": "stream",
     "text": [
      "1250/1250 [==============================] - 111s 88ms/step - loss: 0.0215 - accuracy: 0.9657 - precision: 0.9710 - recall: 0.9616 - val_loss: 0.1085 - val_accuracy: 0.8573 - val_precision: 0.8699 - val_recall: 0.8509\n",
      "Epoch 81/100\n",
      "1250/1250 [==============================] - ETA: 0s - loss: 0.0212 - accuracy: 0.9653 - precision: 0.9707 - recall: 0.9614\n",
      "Epoch 81: saving model to ./obj\\\n"
     ]
    },
    {
     "name": "stderr",
     "output_type": "stream",
     "text": [
      "WARNING:absl:Found untraced functions such as _jit_compiled_convolution_op, _jit_compiled_convolution_op, _jit_compiled_convolution_op, _jit_compiled_convolution_op, _jit_compiled_convolution_op while saving (showing 5 of 6). These functions will not be directly callable after loading.\n"
     ]
    },
    {
     "name": "stdout",
     "output_type": "stream",
     "text": [
      "INFO:tensorflow:Assets written to: ./obj\\assets\n"
     ]
    },
    {
     "name": "stderr",
     "output_type": "stream",
     "text": [
      "INFO:tensorflow:Assets written to: ./obj\\assets\n"
     ]
    },
    {
     "name": "stdout",
     "output_type": "stream",
     "text": [
      "1250/1250 [==============================] - 119s 95ms/step - loss: 0.0212 - accuracy: 0.9653 - precision: 0.9707 - recall: 0.9614 - val_loss: 0.1046 - val_accuracy: 0.8621 - val_precision: 0.8765 - val_recall: 0.8538\n",
      "Epoch 82/100\n",
      "1250/1250 [==============================] - ETA: 0s - loss: 0.0206 - accuracy: 0.9674 - precision: 0.9721 - recall: 0.9636\n",
      "Epoch 82: saving model to ./obj\\\n"
     ]
    },
    {
     "name": "stderr",
     "output_type": "stream",
     "text": [
      "WARNING:absl:Found untraced functions such as _jit_compiled_convolution_op, _jit_compiled_convolution_op, _jit_compiled_convolution_op, _jit_compiled_convolution_op, _jit_compiled_convolution_op while saving (showing 5 of 6). These functions will not be directly callable after loading.\n"
     ]
    },
    {
     "name": "stdout",
     "output_type": "stream",
     "text": [
      "INFO:tensorflow:Assets written to: ./obj\\assets\n"
     ]
    },
    {
     "name": "stderr",
     "output_type": "stream",
     "text": [
      "INFO:tensorflow:Assets written to: ./obj\\assets\n"
     ]
    },
    {
     "name": "stdout",
     "output_type": "stream",
     "text": [
      "1250/1250 [==============================] - 116s 93ms/step - loss: 0.0206 - accuracy: 0.9674 - precision: 0.9721 - recall: 0.9636 - val_loss: 0.1211 - val_accuracy: 0.8508 - val_precision: 0.8627 - val_recall: 0.8436\n",
      "Epoch 83/100\n",
      "1250/1250 [==============================] - ETA: 0s - loss: 0.0208 - accuracy: 0.9662 - precision: 0.9718 - recall: 0.9623\n",
      "Epoch 83: saving model to ./obj\\\n"
     ]
    },
    {
     "name": "stderr",
     "output_type": "stream",
     "text": [
      "WARNING:absl:Found untraced functions such as _jit_compiled_convolution_op, _jit_compiled_convolution_op, _jit_compiled_convolution_op, _jit_compiled_convolution_op, _jit_compiled_convolution_op while saving (showing 5 of 6). These functions will not be directly callable after loading.\n"
     ]
    },
    {
     "name": "stdout",
     "output_type": "stream",
     "text": [
      "INFO:tensorflow:Assets written to: ./obj\\assets\n"
     ]
    },
    {
     "name": "stderr",
     "output_type": "stream",
     "text": [
      "INFO:tensorflow:Assets written to: ./obj\\assets\n"
     ]
    },
    {
     "name": "stdout",
     "output_type": "stream",
     "text": [
      "1250/1250 [==============================] - 89s 71ms/step - loss: 0.0208 - accuracy: 0.9662 - precision: 0.9718 - recall: 0.9623 - val_loss: 0.1113 - val_accuracy: 0.8595 - val_precision: 0.8702 - val_recall: 0.8538\n",
      "Epoch 84/100\n",
      "1250/1250 [==============================] - ETA: 0s - loss: 0.0198 - accuracy: 0.9692 - precision: 0.9732 - recall: 0.9655\n",
      "Epoch 84: saving model to ./obj\\\n"
     ]
    },
    {
     "name": "stderr",
     "output_type": "stream",
     "text": [
      "WARNING:absl:Found untraced functions such as _jit_compiled_convolution_op, _jit_compiled_convolution_op, _jit_compiled_convolution_op, _jit_compiled_convolution_op, _jit_compiled_convolution_op while saving (showing 5 of 6). These functions will not be directly callable after loading.\n"
     ]
    },
    {
     "name": "stdout",
     "output_type": "stream",
     "text": [
      "INFO:tensorflow:Assets written to: ./obj\\assets\n"
     ]
    },
    {
     "name": "stderr",
     "output_type": "stream",
     "text": [
      "INFO:tensorflow:Assets written to: ./obj\\assets\n"
     ]
    },
    {
     "name": "stdout",
     "output_type": "stream",
     "text": [
      "1250/1250 [==============================] - 89s 71ms/step - loss: 0.0198 - accuracy: 0.9692 - precision: 0.9732 - recall: 0.9655 - val_loss: 0.1133 - val_accuracy: 0.8517 - val_precision: 0.8629 - val_recall: 0.8455\n",
      "Epoch 85/100\n",
      "1250/1250 [==============================] - ETA: 0s - loss: 0.0202 - accuracy: 0.9682 - precision: 0.9731 - recall: 0.9643\n",
      "Epoch 85: saving model to ./obj\\\n"
     ]
    },
    {
     "name": "stderr",
     "output_type": "stream",
     "text": [
      "WARNING:absl:Found untraced functions such as _jit_compiled_convolution_op, _jit_compiled_convolution_op, _jit_compiled_convolution_op, _jit_compiled_convolution_op, _jit_compiled_convolution_op while saving (showing 5 of 6). These functions will not be directly callable after loading.\n"
     ]
    },
    {
     "name": "stdout",
     "output_type": "stream",
     "text": [
      "INFO:tensorflow:Assets written to: ./obj\\assets\n"
     ]
    },
    {
     "name": "stderr",
     "output_type": "stream",
     "text": [
      "INFO:tensorflow:Assets written to: ./obj\\assets\n"
     ]
    },
    {
     "name": "stdout",
     "output_type": "stream",
     "text": [
      "1250/1250 [==============================] - 96s 76ms/step - loss: 0.0202 - accuracy: 0.9682 - precision: 0.9731 - recall: 0.9643 - val_loss: 0.1117 - val_accuracy: 0.8632 - val_precision: 0.8743 - val_recall: 0.8576\n",
      "Epoch 86/100\n",
      "1250/1250 [==============================] - ETA: 0s - loss: 0.0199 - accuracy: 0.9688 - precision: 0.9733 - recall: 0.9652\n",
      "Epoch 86: saving model to ./obj\\\n"
     ]
    },
    {
     "name": "stderr",
     "output_type": "stream",
     "text": [
      "WARNING:absl:Found untraced functions such as _jit_compiled_convolution_op, _jit_compiled_convolution_op, _jit_compiled_convolution_op, _jit_compiled_convolution_op, _jit_compiled_convolution_op while saving (showing 5 of 6). These functions will not be directly callable after loading.\n"
     ]
    },
    {
     "name": "stdout",
     "output_type": "stream",
     "text": [
      "INFO:tensorflow:Assets written to: ./obj\\assets\n"
     ]
    },
    {
     "name": "stderr",
     "output_type": "stream",
     "text": [
      "INFO:tensorflow:Assets written to: ./obj\\assets\n"
     ]
    },
    {
     "name": "stdout",
     "output_type": "stream",
     "text": [
      "1250/1250 [==============================] - 88s 70ms/step - loss: 0.0199 - accuracy: 0.9688 - precision: 0.9733 - recall: 0.9652 - val_loss: 0.1136 - val_accuracy: 0.8558 - val_precision: 0.8667 - val_recall: 0.8499\n",
      "Epoch 87/100\n",
      "1249/1250 [============================>.] - ETA: 0s - loss: 0.0203 - accuracy: 0.9680 - precision: 0.9723 - recall: 0.9639\n",
      "Epoch 87: saving model to ./obj\\\n"
     ]
    },
    {
     "name": "stderr",
     "output_type": "stream",
     "text": [
      "WARNING:absl:Found untraced functions such as _jit_compiled_convolution_op, _jit_compiled_convolution_op, _jit_compiled_convolution_op, _jit_compiled_convolution_op, _jit_compiled_convolution_op while saving (showing 5 of 6). These functions will not be directly callable after loading.\n"
     ]
    },
    {
     "name": "stdout",
     "output_type": "stream",
     "text": [
      "INFO:tensorflow:Assets written to: ./obj\\assets\n"
     ]
    },
    {
     "name": "stderr",
     "output_type": "stream",
     "text": [
      "INFO:tensorflow:Assets written to: ./obj\\assets\n"
     ]
    },
    {
     "name": "stdout",
     "output_type": "stream",
     "text": [
      "1250/1250 [==============================] - 91s 73ms/step - loss: 0.0203 - accuracy: 0.9680 - precision: 0.9723 - recall: 0.9639 - val_loss: 0.1046 - val_accuracy: 0.8606 - val_precision: 0.8742 - val_recall: 0.8528\n",
      "Epoch 88/100\n",
      "1250/1250 [==============================] - ETA: 0s - loss: 0.0206 - accuracy: 0.9682 - precision: 0.9729 - recall: 0.9646\n",
      "Epoch 88: saving model to ./obj\\\n"
     ]
    },
    {
     "name": "stderr",
     "output_type": "stream",
     "text": [
      "WARNING:absl:Found untraced functions such as _jit_compiled_convolution_op, _jit_compiled_convolution_op, _jit_compiled_convolution_op, _jit_compiled_convolution_op, _jit_compiled_convolution_op while saving (showing 5 of 6). These functions will not be directly callable after loading.\n"
     ]
    },
    {
     "name": "stdout",
     "output_type": "stream",
     "text": [
      "INFO:tensorflow:Assets written to: ./obj\\assets\n"
     ]
    },
    {
     "name": "stderr",
     "output_type": "stream",
     "text": [
      "INFO:tensorflow:Assets written to: ./obj\\assets\n"
     ]
    },
    {
     "name": "stdout",
     "output_type": "stream",
     "text": [
      "1250/1250 [==============================] - 91s 73ms/step - loss: 0.0206 - accuracy: 0.9682 - precision: 0.9729 - recall: 0.9646 - val_loss: 0.1103 - val_accuracy: 0.8630 - val_precision: 0.8725 - val_recall: 0.8566\n",
      "Epoch 89/100\n",
      "1250/1250 [==============================] - ETA: 0s - loss: 0.0198 - accuracy: 0.9686 - precision: 0.9733 - recall: 0.9649\n",
      "Epoch 89: saving model to ./obj\\\n"
     ]
    },
    {
     "name": "stderr",
     "output_type": "stream",
     "text": [
      "WARNING:absl:Found untraced functions such as _jit_compiled_convolution_op, _jit_compiled_convolution_op, _jit_compiled_convolution_op, _jit_compiled_convolution_op, _jit_compiled_convolution_op while saving (showing 5 of 6). These functions will not be directly callable after loading.\n"
     ]
    },
    {
     "name": "stdout",
     "output_type": "stream",
     "text": [
      "INFO:tensorflow:Assets written to: ./obj\\assets\n"
     ]
    },
    {
     "name": "stderr",
     "output_type": "stream",
     "text": [
      "INFO:tensorflow:Assets written to: ./obj\\assets\n"
     ]
    },
    {
     "name": "stdout",
     "output_type": "stream",
     "text": [
      "1250/1250 [==============================] - 86s 68ms/step - loss: 0.0198 - accuracy: 0.9686 - precision: 0.9733 - recall: 0.9649 - val_loss: 0.1215 - val_accuracy: 0.8562 - val_precision: 0.8667 - val_recall: 0.8512\n",
      "Epoch 90/100\n",
      "1250/1250 [==============================] - ETA: 0s - loss: 0.0189 - accuracy: 0.9707 - precision: 0.9748 - recall: 0.9669\n",
      "Epoch 90: saving model to ./obj\\\n"
     ]
    },
    {
     "name": "stderr",
     "output_type": "stream",
     "text": [
      "WARNING:absl:Found untraced functions such as _jit_compiled_convolution_op, _jit_compiled_convolution_op, _jit_compiled_convolution_op, _jit_compiled_convolution_op, _jit_compiled_convolution_op while saving (showing 5 of 6). These functions will not be directly callable after loading.\n"
     ]
    },
    {
     "name": "stdout",
     "output_type": "stream",
     "text": [
      "INFO:tensorflow:Assets written to: ./obj\\assets\n"
     ]
    },
    {
     "name": "stderr",
     "output_type": "stream",
     "text": [
      "INFO:tensorflow:Assets written to: ./obj\\assets\n"
     ]
    },
    {
     "name": "stdout",
     "output_type": "stream",
     "text": [
      "1250/1250 [==============================] - 91s 73ms/step - loss: 0.0189 - accuracy: 0.9707 - precision: 0.9748 - recall: 0.9669 - val_loss: 0.1054 - val_accuracy: 0.8641 - val_precision: 0.8769 - val_recall: 0.8566\n",
      "Epoch 91/100\n",
      "1250/1250 [==============================] - ETA: 0s - loss: 0.0207 - accuracy: 0.9680 - precision: 0.9725 - recall: 0.9641\n",
      "Epoch 91: saving model to ./obj\\\n"
     ]
    },
    {
     "name": "stderr",
     "output_type": "stream",
     "text": [
      "WARNING:absl:Found untraced functions such as _jit_compiled_convolution_op, _jit_compiled_convolution_op, _jit_compiled_convolution_op, _jit_compiled_convolution_op, _jit_compiled_convolution_op while saving (showing 5 of 6). These functions will not be directly callable after loading.\n"
     ]
    },
    {
     "name": "stdout",
     "output_type": "stream",
     "text": [
      "INFO:tensorflow:Assets written to: ./obj\\assets\n"
     ]
    },
    {
     "name": "stderr",
     "output_type": "stream",
     "text": [
      "INFO:tensorflow:Assets written to: ./obj\\assets\n"
     ]
    },
    {
     "name": "stdout",
     "output_type": "stream",
     "text": [
      "1250/1250 [==============================] - 87s 70ms/step - loss: 0.0207 - accuracy: 0.9680 - precision: 0.9725 - recall: 0.9641 - val_loss: 0.1105 - val_accuracy: 0.8565 - val_precision: 0.8687 - val_recall: 0.8494\n",
      "Epoch 92/100\n",
      "1250/1250 [==============================] - ETA: 0s - loss: 0.0192 - accuracy: 0.9686 - precision: 0.9731 - recall: 0.9654\n",
      "Epoch 92: saving model to ./obj\\\n"
     ]
    },
    {
     "name": "stderr",
     "output_type": "stream",
     "text": [
      "WARNING:absl:Found untraced functions such as _jit_compiled_convolution_op, _jit_compiled_convolution_op, _jit_compiled_convolution_op, _jit_compiled_convolution_op, _jit_compiled_convolution_op while saving (showing 5 of 6). These functions will not be directly callable after loading.\n"
     ]
    },
    {
     "name": "stdout",
     "output_type": "stream",
     "text": [
      "INFO:tensorflow:Assets written to: ./obj\\assets\n"
     ]
    },
    {
     "name": "stderr",
     "output_type": "stream",
     "text": [
      "INFO:tensorflow:Assets written to: ./obj\\assets\n"
     ]
    },
    {
     "name": "stdout",
     "output_type": "stream",
     "text": [
      "1250/1250 [==============================] - 87s 70ms/step - loss: 0.0192 - accuracy: 0.9686 - precision: 0.9731 - recall: 0.9654 - val_loss: 0.1071 - val_accuracy: 0.8608 - val_precision: 0.8744 - val_recall: 0.8517\n",
      "Epoch 93/100\n",
      "1250/1250 [==============================] - ETA: 0s - loss: 0.0191 - accuracy: 0.9696 - precision: 0.9738 - recall: 0.9660\n",
      "Epoch 93: saving model to ./obj\\\n"
     ]
    },
    {
     "name": "stderr",
     "output_type": "stream",
     "text": [
      "WARNING:absl:Found untraced functions such as _jit_compiled_convolution_op, _jit_compiled_convolution_op, _jit_compiled_convolution_op, _jit_compiled_convolution_op, _jit_compiled_convolution_op while saving (showing 5 of 6). These functions will not be directly callable after loading.\n"
     ]
    },
    {
     "name": "stdout",
     "output_type": "stream",
     "text": [
      "INFO:tensorflow:Assets written to: ./obj\\assets\n"
     ]
    },
    {
     "name": "stderr",
     "output_type": "stream",
     "text": [
      "INFO:tensorflow:Assets written to: ./obj\\assets\n"
     ]
    },
    {
     "name": "stdout",
     "output_type": "stream",
     "text": [
      "1250/1250 [==============================] - 88s 71ms/step - loss: 0.0191 - accuracy: 0.9696 - precision: 0.9738 - recall: 0.9660 - val_loss: 0.1132 - val_accuracy: 0.8626 - val_precision: 0.8759 - val_recall: 0.8565\n",
      "Epoch 94/100\n",
      "1250/1250 [==============================] - ETA: 0s - loss: 0.0193 - accuracy: 0.9692 - precision: 0.9735 - recall: 0.9658\n",
      "Epoch 94: saving model to ./obj\\\n"
     ]
    },
    {
     "name": "stderr",
     "output_type": "stream",
     "text": [
      "WARNING:absl:Found untraced functions such as _jit_compiled_convolution_op, _jit_compiled_convolution_op, _jit_compiled_convolution_op, _jit_compiled_convolution_op, _jit_compiled_convolution_op while saving (showing 5 of 6). These functions will not be directly callable after loading.\n"
     ]
    },
    {
     "name": "stdout",
     "output_type": "stream",
     "text": [
      "INFO:tensorflow:Assets written to: ./obj\\assets\n"
     ]
    },
    {
     "name": "stderr",
     "output_type": "stream",
     "text": [
      "INFO:tensorflow:Assets written to: ./obj\\assets\n"
     ]
    },
    {
     "name": "stdout",
     "output_type": "stream",
     "text": [
      "1250/1250 [==============================] - 89s 71ms/step - loss: 0.0193 - accuracy: 0.9692 - precision: 0.9735 - recall: 0.9658 - val_loss: 0.1100 - val_accuracy: 0.8585 - val_precision: 0.8732 - val_recall: 0.8520\n",
      "Epoch 95/100\n",
      "1250/1250 [==============================] - ETA: 0s - loss: 0.0185 - accuracy: 0.9718 - precision: 0.9756 - recall: 0.9686\n",
      "Epoch 95: saving model to ./obj\\\n"
     ]
    },
    {
     "name": "stderr",
     "output_type": "stream",
     "text": [
      "WARNING:absl:Found untraced functions such as _jit_compiled_convolution_op, _jit_compiled_convolution_op, _jit_compiled_convolution_op, _jit_compiled_convolution_op, _jit_compiled_convolution_op while saving (showing 5 of 6). These functions will not be directly callable after loading.\n"
     ]
    },
    {
     "name": "stdout",
     "output_type": "stream",
     "text": [
      "INFO:tensorflow:Assets written to: ./obj\\assets\n"
     ]
    },
    {
     "name": "stderr",
     "output_type": "stream",
     "text": [
      "INFO:tensorflow:Assets written to: ./obj\\assets\n"
     ]
    },
    {
     "name": "stdout",
     "output_type": "stream",
     "text": [
      "1250/1250 [==============================] - 92s 74ms/step - loss: 0.0185 - accuracy: 0.9718 - precision: 0.9756 - recall: 0.9686 - val_loss: 0.1118 - val_accuracy: 0.8595 - val_precision: 0.8721 - val_recall: 0.8540\n",
      "Epoch 96/100\n",
      "1250/1250 [==============================] - ETA: 0s - loss: 0.0191 - accuracy: 0.9701 - precision: 0.9742 - recall: 0.9665\n",
      "Epoch 96: saving model to ./obj\\\n"
     ]
    },
    {
     "name": "stderr",
     "output_type": "stream",
     "text": [
      "WARNING:absl:Found untraced functions such as _jit_compiled_convolution_op, _jit_compiled_convolution_op, _jit_compiled_convolution_op, _jit_compiled_convolution_op, _jit_compiled_convolution_op while saving (showing 5 of 6). These functions will not be directly callable after loading.\n"
     ]
    },
    {
     "name": "stdout",
     "output_type": "stream",
     "text": [
      "INFO:tensorflow:Assets written to: ./obj\\assets\n"
     ]
    },
    {
     "name": "stderr",
     "output_type": "stream",
     "text": [
      "INFO:tensorflow:Assets written to: ./obj\\assets\n"
     ]
    },
    {
     "name": "stdout",
     "output_type": "stream",
     "text": [
      "1250/1250 [==============================] - 86s 69ms/step - loss: 0.0191 - accuracy: 0.9701 - precision: 0.9742 - recall: 0.9665 - val_loss: 0.1011 - val_accuracy: 0.8598 - val_precision: 0.8755 - val_recall: 0.8533\n",
      "Epoch 97/100\n",
      "1250/1250 [==============================] - ETA: 0s - loss: 0.0193 - accuracy: 0.9691 - precision: 0.9735 - recall: 0.9656\n",
      "Epoch 97: saving model to ./obj\\\n"
     ]
    },
    {
     "name": "stderr",
     "output_type": "stream",
     "text": [
      "WARNING:absl:Found untraced functions such as _jit_compiled_convolution_op, _jit_compiled_convolution_op, _jit_compiled_convolution_op, _jit_compiled_convolution_op, _jit_compiled_convolution_op while saving (showing 5 of 6). These functions will not be directly callable after loading.\n"
     ]
    },
    {
     "name": "stdout",
     "output_type": "stream",
     "text": [
      "INFO:tensorflow:Assets written to: ./obj\\assets\n"
     ]
    },
    {
     "name": "stderr",
     "output_type": "stream",
     "text": [
      "INFO:tensorflow:Assets written to: ./obj\\assets\n"
     ]
    },
    {
     "name": "stdout",
     "output_type": "stream",
     "text": [
      "1250/1250 [==============================] - 93s 74ms/step - loss: 0.0193 - accuracy: 0.9691 - precision: 0.9735 - recall: 0.9656 - val_loss: 0.1074 - val_accuracy: 0.8621 - val_precision: 0.8742 - val_recall: 0.8550\n",
      "Epoch 98/100\n",
      "1250/1250 [==============================] - ETA: 0s - loss: 0.0183 - accuracy: 0.9713 - precision: 0.9757 - recall: 0.9685\n",
      "Epoch 98: saving model to ./obj\\\n"
     ]
    },
    {
     "name": "stderr",
     "output_type": "stream",
     "text": [
      "WARNING:absl:Found untraced functions such as _jit_compiled_convolution_op, _jit_compiled_convolution_op, _jit_compiled_convolution_op, _jit_compiled_convolution_op, _jit_compiled_convolution_op while saving (showing 5 of 6). These functions will not be directly callable after loading.\n"
     ]
    },
    {
     "name": "stdout",
     "output_type": "stream",
     "text": [
      "INFO:tensorflow:Assets written to: ./obj\\assets\n"
     ]
    },
    {
     "name": "stderr",
     "output_type": "stream",
     "text": [
      "INFO:tensorflow:Assets written to: ./obj\\assets\n"
     ]
    },
    {
     "name": "stdout",
     "output_type": "stream",
     "text": [
      "1250/1250 [==============================] - 90s 72ms/step - loss: 0.0183 - accuracy: 0.9713 - precision: 0.9757 - recall: 0.9685 - val_loss: 0.1172 - val_accuracy: 0.8558 - val_precision: 0.8674 - val_recall: 0.8493\n",
      "Epoch 99/100\n",
      "1250/1250 [==============================] - ETA: 0s - loss: 0.0179 - accuracy: 0.9719 - precision: 0.9756 - recall: 0.9686\n",
      "Epoch 99: saving model to ./obj\\\n"
     ]
    },
    {
     "name": "stderr",
     "output_type": "stream",
     "text": [
      "WARNING:absl:Found untraced functions such as _jit_compiled_convolution_op, _jit_compiled_convolution_op, _jit_compiled_convolution_op, _jit_compiled_convolution_op, _jit_compiled_convolution_op while saving (showing 5 of 6). These functions will not be directly callable after loading.\n"
     ]
    },
    {
     "name": "stdout",
     "output_type": "stream",
     "text": [
      "INFO:tensorflow:Assets written to: ./obj\\assets\n"
     ]
    },
    {
     "name": "stderr",
     "output_type": "stream",
     "text": [
      "INFO:tensorflow:Assets written to: ./obj\\assets\n"
     ]
    },
    {
     "name": "stdout",
     "output_type": "stream",
     "text": [
      "1250/1250 [==============================] - 88s 70ms/step - loss: 0.0179 - accuracy: 0.9719 - precision: 0.9756 - recall: 0.9686 - val_loss: 0.1059 - val_accuracy: 0.8621 - val_precision: 0.8765 - val_recall: 0.8544\n",
      "Epoch 100/100\n",
      "1250/1250 [==============================] - ETA: 0s - loss: 0.0184 - accuracy: 0.9718 - precision: 0.9757 - recall: 0.9689\n",
      "Epoch 100: saving model to ./obj\\\n"
     ]
    },
    {
     "name": "stderr",
     "output_type": "stream",
     "text": [
      "WARNING:absl:Found untraced functions such as _jit_compiled_convolution_op, _jit_compiled_convolution_op, _jit_compiled_convolution_op, _jit_compiled_convolution_op, _jit_compiled_convolution_op while saving (showing 5 of 6). These functions will not be directly callable after loading.\n"
     ]
    },
    {
     "name": "stdout",
     "output_type": "stream",
     "text": [
      "INFO:tensorflow:Assets written to: ./obj\\assets\n"
     ]
    },
    {
     "name": "stderr",
     "output_type": "stream",
     "text": [
      "INFO:tensorflow:Assets written to: ./obj\\assets\n"
     ]
    },
    {
     "name": "stdout",
     "output_type": "stream",
     "text": [
      "\b\b\b\b\b\b\b\b\b\b\b\b\b\b\b\b\b\b\b\b\b\b\b\b\b\b\b\b\b\b\b\b\b\b\b\b\b\b\b\b\b\b\b\b\b\b\b\b\b\b\b\b\b\b\b\b\b\b\b\b\b\b\b\b\b\b\b\b\b\b\b\b\b\b\b\b\b\b\b\b\b\b\b\b\b\b\b\b\b\b\b\b\b\b\b\b\b\b\b\b\b\b\b\b\b\b\b\b\b\b\b\b\b\b\b\b\b\b\b\b\b\b\b\r",
      "1250/1250 [==============================] - 91s 73ms/step - loss: 0.0184 - accuracy: 0.9718 - precision: 0.9757 - recall: 0.9689 - val_loss: 0.1059 - val_accuracy: 0.8613 - val_precision: 0.8749 - val_recall: 0.8531\n"
     ]
    }
   ],
   "source": [
    "# Load dữ liệu\n",
    "X_train = np.load('data/cv-cnn-ute-122/x_train.npy')\n",
    "X_test = np.load('data/cv-cnn-ute-122/x_test.npy')\n",
    "y_train = np.load('data/cv-cnn-ute-122/y_train.npy')\n",
    "\n",
    "# 3. Reshape lại dữ liệu cho đúng kích thước mà keras yêu cầu\n",
    "X_tr = X_train.reshape(50000, 32, 32,3 )\n",
    "X_t = X_test.reshape(10000, 32, 32,3)\n",
    "\n",
    "# X_tr = X_train.astype('float32')\n",
    "# X_t = X_test.astype('float32')\n",
    "\n",
    "X_tr = X_tr / 255.0\n",
    "X_t = X_t / 255.0\n",
    "y_train = to_categorical(y_train,10)\n",
    "\n",
    "# định nghĩa hàm loss\n",
    "loss_fn = tf.keras.losses.CategoricalCrossentropy()\n",
    "\n",
    "# định nghĩa thuật toán tối ưu\n",
    "optimizer = tf.keras.optimizers.SGD(learning_rate=0.001)\n",
    "# optimizer = tf.keras.optimizers.RMSprop()\n",
    "# optimizer = tf.keras.optimizers.Adam(learning_rate=0.001)\n",
    "\n",
    "# xây dựng mô hình\n",
    "def create_model():\n",
    "    model = Sequential()\n",
    "\n",
    "# Convolutional Layer\n",
    "    model.add(Conv2D(filters=32, kernel_size=(3, 3), input_shape=(32, 32, 3), activation='relu', padding='same'))\n",
    "    model.add(BatchNormalization())\n",
    "    model.add(Conv2D(filters=32, kernel_size=(3, 3), input_shape=(32, 32, 3), activation='relu', padding='same'))\n",
    "    model.add(BatchNormalization())\n",
    "    # Pooling layer\n",
    "    model.add(MaxPool2D(pool_size=(2, 2)))\n",
    "    # Dropout layers\n",
    "    model.add(Dropout(0.25))\n",
    "\n",
    "    model.add(Conv2D(filters=64, kernel_size=(3, 3), input_shape=(32, 32, 3), activation='relu', padding='same'))\n",
    "    model.add(BatchNormalization())\n",
    "    model.add(Conv2D(filters=64, kernel_size=(3, 3), input_shape=(32, 32, 3), activation='relu', padding='same'))\n",
    "    model.add(BatchNormalization())\n",
    "    model.add(MaxPool2D(pool_size=(2, 2)))\n",
    "    model.add(Dropout(0.25))\n",
    "\n",
    "    model.add(Conv2D(filters=128, kernel_size=(3, 3), input_shape=(32, 32, 3), activation='relu', padding='same'))\n",
    "    model.add(BatchNormalization())\n",
    "    model.add(Conv2D(filters=128, kernel_size=(3, 3), input_shape=(32, 32, 3), activation='relu', padding='same'))\n",
    "    model.add(BatchNormalization())\n",
    "    model.add(MaxPool2D(pool_size=(2, 2)))\n",
    "    model.add(Dropout(0.25))\n",
    "\n",
    "    model.add(Flatten())\n",
    "# model.add(Dropout(0.2))\n",
    "    model.add(Dense(128, activation='relu'))\n",
    "    model.add(Dropout(0.25))\n",
    "    model.add(Dense(10, activation='softmax'))\n",
    "\n",
    "    METRICS = [\n",
    "        'accuracy',\n",
    "        tf.keras.metrics.Precision(name='precision'),\n",
    "        tf.keras.metrics.Recall(name='recall')\n",
    "    ]\n",
    "    model.compile(loss='binary_crossentropy', optimizer='adam', metrics=METRICS)\n",
    "    return model\n",
    "\n",
    "# def create_model():\n",
    "#     model = Sequential()\n",
    "#     model.add(Conv2D(32, (3, 3), activation='relu', kernel_initializer='he_uniform', padding='same', input_shape=(32, 32, 3)))\n",
    "#     model.add(Conv2D(32, (3, 3), activation='relu', kernel_initializer='he_uniform', padding='same'))\n",
    "#     model.add(MaxPooling2D((2, 2)))\n",
    "#     model.add(Dropout(0.2))\n",
    "#     model.add(Conv2D(64, (3, 3), activation='relu', kernel_initializer='he_uniform', padding='same'))\n",
    "#     model.add(Conv2D(64, (3, 3), activation='relu', kernel_initializer='he_uniform', padding='same'))\n",
    "#     model.add(MaxPooling2D((2, 2)))\n",
    "#     model.add(Dropout(0.2))\n",
    "#     model.add(Conv2D(128, (3, 3), activation='relu', kernel_initializer='he_uniform', padding='same'))\n",
    "#     model.add(Conv2D(128, (3, 3), activation='relu', kernel_initializer='he_uniform', padding='same'))\n",
    "#     model.add(MaxPooling2D((2, 2)))\n",
    "#     model.add(Dropout(0.2))\n",
    "#     model.add(Flatten())\n",
    "#     model.add(Dense(64, activation='relu', kernel_initializer='he_uniform'))\n",
    "#     model.add(Dropout(0.2))\n",
    "#     model.add(Dense(128, activation='relu', kernel_initializer='he_uniform'))\n",
    "#     model.add(Dropout(0.2))\n",
    "#     model.add(Dense(10, activation='softmax'))\n",
    "#     # compile model\n",
    "#     model.compile(optimizer=optimizer, loss=loss_fn, metrics=['accuracy'])\n",
    "#     return model\n",
    "\n",
    "model = create_model()\n",
    "model.summary()\n",
    "\n",
    "# tensorboard = TensorBoard(\n",
    "# \t  log_dir=os.path.join(os.getcwd(), \"logs\"),\n",
    "# \t  histogram_freq=1,\n",
    "# \t  write_images=True\n",
    "# \t)\n",
    "\n",
    "weights_filepath = './obj/'\n",
    "callback = tf.keras.callbacks.ModelCheckpoint( filepath =\n",
    "weights_filepath, monitor='val_loss', verbose=1,\n",
    "save_best_only=False, save_weights_only=False)\n",
    "# callback = tf.keras.callbacks.ReduceLROnPlateau(\n",
    "#     monitor='val_loss',\n",
    "#     factor=0.01,\n",
    "#     patience=10,\n",
    "#     verbose=1,\n",
    "#     min_delta=0.0001,\n",
    "#     cooldown=0,\n",
    "#     min_lr=0)\n",
    "# bắt đầu training\n",
    "his = model.fit(X_tr, y_train, epochs = 100, batch_size = 32,\n",
    "validation_split=0.2, callbacks=callback)"
   ]
  },
  {
   "cell_type": "code",
   "execution_count": 31,
   "id": "75cda0e1",
   "metadata": {
    "colab": {
     "base_uri": "https://localhost:8080/"
    },
    "executionInfo": {
     "elapsed": 2866,
     "status": "ok",
     "timestamp": 1667734616748,
     "user": {
      "displayName": "Đức Nguyễn",
      "userId": "17174833605224599318"
     },
     "user_tz": -420
    },
    "id": "75cda0e1",
    "outputId": "a69ab325-b61d-471a-8e56-e0ae85718023"
   },
   "outputs": [
    {
     "name": "stdout",
     "output_type": "stream",
     "text": [
      "313/313 [==============================] - 1s 3ms/step\n"
     ]
    }
   ],
   "source": [
    "# Load file mô hình đã huấn luyện\n",
    "model = create_model()\n",
    "model = tf.keras.models.load_model('./obj/')\n",
    "\n",
    "prediction = model.predict(X_t)\n",
    "\n",
    "out_np = np.argmax(prediction, axis=1)\n",
    "\n",
    "f = open('output.csv', 'w', newline='')\n",
    "\n",
    "headers = ['index', 'label']\n",
    "\n",
    "with f:\n",
    "    writer = csv.writer(f)\n",
    "    writer.writerow(headers)\n",
    "    for i in range(out_np.shape[0]):\n",
    "        writer.writerow([i,out_np[i]])"
   ]
  },
  {
   "cell_type": "code",
   "execution_count": 29,
   "id": "2df99e51",
   "metadata": {
    "executionInfo": {
     "elapsed": 11,
     "status": "ok",
     "timestamp": 1667734500450,
     "user": {
      "displayName": "Đức Nguyễn",
      "userId": "17174833605224599318"
     },
     "user_tz": -420
    },
    "id": "2df99e51"
   },
   "outputs": [],
   "source": []
  }
 ],
 "metadata": {
  "accelerator": "GPU",
  "colab": {
   "provenance": []
  },
  "gpuClass": "standard",
  "kernelspec": {
   "display_name": "Python 3 (ipykernel)",
   "language": "python",
   "name": "python3"
  },
  "language_info": {
   "codemirror_mode": {
    "name": "ipython",
    "version": 3
   },
   "file_extension": ".py",
   "mimetype": "text/x-python",
   "name": "python",
   "nbconvert_exporter": "python",
   "pygments_lexer": "ipython3",
   "version": "3.9.7"
  }
 },
 "nbformat": 4,
 "nbformat_minor": 5
}
